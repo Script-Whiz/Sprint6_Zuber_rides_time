{
 "cells": [
  {
   "cell_type": "markdown",
   "metadata": {},
   "source": [
    "# Exploratory data analysis on Zuber rides, by Deborah Thomas"
   ]
  },
  {
   "cell_type": "markdown",
   "metadata": {},
   "source": [
    "<h2 style=\"color:red;\">Intro:</h2>"
   ]
  },
  {
   "cell_type": "markdown",
   "metadata": {},
   "source": [
    "## This analysis will \n",
    "- look at data, from competitors, and test a hypothesis about the impact of weather on ride frequency.\n",
    "- identify the top 10 neighborhoods, in terms of drop-offs\n",
    "- make graphs\n",
    "- draw conclusions based on each graph and explain the results"
   ]
  },
  {
   "cell_type": "markdown",
   "metadata": {},
   "source": [
    "<h2 style=\"color:red;\">Import libraries:</h2>"
   ]
  },
  {
   "cell_type": "code",
   "execution_count": 205,
   "metadata": {},
   "outputs": [],
   "source": [
    "import pandas as pd\n",
    "import plotly.express as px\n",
    "import scipy.stats as stats"
   ]
  },
  {
   "cell_type": "markdown",
   "metadata": {},
   "source": [
    "### Read in Company dataset."
   ]
  },
  {
   "cell_type": "code",
   "execution_count": 207,
   "metadata": {},
   "outputs": [
    {
     "data": {
      "text/html": [
       "<div>\n",
       "<style scoped>\n",
       "    .dataframe tbody tr th:only-of-type {\n",
       "        vertical-align: middle;\n",
       "    }\n",
       "\n",
       "    .dataframe tbody tr th {\n",
       "        vertical-align: top;\n",
       "    }\n",
       "\n",
       "    .dataframe thead th {\n",
       "        text-align: right;\n",
       "    }\n",
       "</style>\n",
       "<table border=\"1\" class=\"dataframe\">\n",
       "  <thead>\n",
       "    <tr style=\"text-align: right;\">\n",
       "      <th></th>\n",
       "      <th>company_name</th>\n",
       "      <th>trips_amount</th>\n",
       "    </tr>\n",
       "  </thead>\n",
       "  <tbody>\n",
       "    <tr>\n",
       "      <th>0</th>\n",
       "      <td>Flash Cab</td>\n",
       "      <td>19558</td>\n",
       "    </tr>\n",
       "    <tr>\n",
       "      <th>1</th>\n",
       "      <td>Taxi Affiliation Services</td>\n",
       "      <td>11422</td>\n",
       "    </tr>\n",
       "    <tr>\n",
       "      <th>2</th>\n",
       "      <td>Medallion Leasin</td>\n",
       "      <td>10367</td>\n",
       "    </tr>\n",
       "    <tr>\n",
       "      <th>3</th>\n",
       "      <td>Yellow Cab</td>\n",
       "      <td>9888</td>\n",
       "    </tr>\n",
       "    <tr>\n",
       "      <th>4</th>\n",
       "      <td>Taxi Affiliation Service Yellow</td>\n",
       "      <td>9299</td>\n",
       "    </tr>\n",
       "    <tr>\n",
       "      <th>5</th>\n",
       "      <td>Chicago Carriage Cab Corp</td>\n",
       "      <td>9181</td>\n",
       "    </tr>\n",
       "    <tr>\n",
       "      <th>6</th>\n",
       "      <td>City Service</td>\n",
       "      <td>8448</td>\n",
       "    </tr>\n",
       "    <tr>\n",
       "      <th>7</th>\n",
       "      <td>Sun Taxi</td>\n",
       "      <td>7701</td>\n",
       "    </tr>\n",
       "    <tr>\n",
       "      <th>8</th>\n",
       "      <td>Star North Management LLC</td>\n",
       "      <td>7455</td>\n",
       "    </tr>\n",
       "    <tr>\n",
       "      <th>9</th>\n",
       "      <td>Blue Ribbon Taxi Association Inc.</td>\n",
       "      <td>5953</td>\n",
       "    </tr>\n",
       "    <tr>\n",
       "      <th>10</th>\n",
       "      <td>Choice Taxi Association</td>\n",
       "      <td>5015</td>\n",
       "    </tr>\n",
       "    <tr>\n",
       "      <th>11</th>\n",
       "      <td>Globe Taxi</td>\n",
       "      <td>4383</td>\n",
       "    </tr>\n",
       "    <tr>\n",
       "      <th>12</th>\n",
       "      <td>Dispatch Taxi Affiliation</td>\n",
       "      <td>3355</td>\n",
       "    </tr>\n",
       "    <tr>\n",
       "      <th>13</th>\n",
       "      <td>Nova Taxi Affiliation Llc</td>\n",
       "      <td>3175</td>\n",
       "    </tr>\n",
       "    <tr>\n",
       "      <th>14</th>\n",
       "      <td>Patriot Taxi Dba Peace Taxi Associat</td>\n",
       "      <td>2235</td>\n",
       "    </tr>\n",
       "  </tbody>\n",
       "</table>\n",
       "</div>"
      ],
      "text/plain": [
       "                            company_name  trips_amount\n",
       "0                              Flash Cab         19558\n",
       "1              Taxi Affiliation Services         11422\n",
       "2                       Medallion Leasin         10367\n",
       "3                             Yellow Cab          9888\n",
       "4        Taxi Affiliation Service Yellow          9299\n",
       "5              Chicago Carriage Cab Corp          9181\n",
       "6                           City Service          8448\n",
       "7                               Sun Taxi          7701\n",
       "8              Star North Management LLC          7455\n",
       "9      Blue Ribbon Taxi Association Inc.          5953\n",
       "10               Choice Taxi Association          5015\n",
       "11                            Globe Taxi          4383\n",
       "12             Dispatch Taxi Affiliation          3355\n",
       "13             Nova Taxi Affiliation Llc          3175\n",
       "14  Patriot Taxi Dba Peace Taxi Associat          2235"
      ]
     },
     "metadata": {},
     "output_type": "display_data"
    }
   ],
   "source": [
    "try:\n",
    "    company = pd.read_csv('/datasets/moved_project_sql_result_01.csv')  # Attempt to read from the server path\n",
    "except FileNotFoundError:\n",
    "    company = pd.read_csv('../datasets/moved_project_sql_result_01.csv')  # Fallback to the local path\n",
    "\n",
    "\n",
    "display(company.head(15))"
   ]
  },
  {
   "cell_type": "markdown",
   "metadata": {},
   "source": [
    "### Company dataset columns:\n",
    "- company_name: taxi company name\n",
    "- trips_amount: the number of rides for each taxi company on November 15-16, 2017."
   ]
  },
  {
   "cell_type": "code",
   "execution_count": 209,
   "metadata": {},
   "outputs": [
    {
     "name": "stdout",
     "output_type": "stream",
     "text": [
      "<class 'pandas.core.frame.DataFrame'>\n",
      "RangeIndex: 64 entries, 0 to 63\n",
      "Data columns (total 2 columns):\n",
      " #   Column        Non-Null Count  Dtype \n",
      "---  ------        --------------  ----- \n",
      " 0   company_name  64 non-null     object\n",
      " 1   trips_amount  64 non-null     int64 \n",
      "dtypes: int64(1), object(1)\n",
      "memory usage: 1.1+ KB\n"
     ]
    }
   ],
   "source": [
    "company.info()"
   ]
  },
  {
   "cell_type": "markdown",
   "metadata": {},
   "source": [
    "#### There is no missing data in the Company dataset."
   ]
  },
  {
   "cell_type": "markdown",
   "metadata": {},
   "source": [
    "### Read in Trips dataset."
   ]
  },
  {
   "cell_type": "code",
   "execution_count": 212,
   "metadata": {},
   "outputs": [
    {
     "data": {
      "text/html": [
       "<div>\n",
       "<style scoped>\n",
       "    .dataframe tbody tr th:only-of-type {\n",
       "        vertical-align: middle;\n",
       "    }\n",
       "\n",
       "    .dataframe tbody tr th {\n",
       "        vertical-align: top;\n",
       "    }\n",
       "\n",
       "    .dataframe thead th {\n",
       "        text-align: right;\n",
       "    }\n",
       "</style>\n",
       "<table border=\"1\" class=\"dataframe\">\n",
       "  <thead>\n",
       "    <tr style=\"text-align: right;\">\n",
       "      <th></th>\n",
       "      <th>dropoff_location_name</th>\n",
       "      <th>average_trips</th>\n",
       "    </tr>\n",
       "  </thead>\n",
       "  <tbody>\n",
       "    <tr>\n",
       "      <th>0</th>\n",
       "      <td>Loop</td>\n",
       "      <td>10727.466667</td>\n",
       "    </tr>\n",
       "    <tr>\n",
       "      <th>1</th>\n",
       "      <td>River North</td>\n",
       "      <td>9523.666667</td>\n",
       "    </tr>\n",
       "    <tr>\n",
       "      <th>2</th>\n",
       "      <td>Streeterville</td>\n",
       "      <td>6664.666667</td>\n",
       "    </tr>\n",
       "    <tr>\n",
       "      <th>3</th>\n",
       "      <td>West Loop</td>\n",
       "      <td>5163.666667</td>\n",
       "    </tr>\n",
       "    <tr>\n",
       "      <th>4</th>\n",
       "      <td>O'Hare</td>\n",
       "      <td>2546.900000</td>\n",
       "    </tr>\n",
       "    <tr>\n",
       "      <th>5</th>\n",
       "      <td>Lake View</td>\n",
       "      <td>2420.966667</td>\n",
       "    </tr>\n",
       "    <tr>\n",
       "      <th>6</th>\n",
       "      <td>Grant Park</td>\n",
       "      <td>2068.533333</td>\n",
       "    </tr>\n",
       "    <tr>\n",
       "      <th>7</th>\n",
       "      <td>Museum Campus</td>\n",
       "      <td>1510.000000</td>\n",
       "    </tr>\n",
       "    <tr>\n",
       "      <th>8</th>\n",
       "      <td>Gold Coast</td>\n",
       "      <td>1364.233333</td>\n",
       "    </tr>\n",
       "    <tr>\n",
       "      <th>9</th>\n",
       "      <td>Sheffield &amp; DePaul</td>\n",
       "      <td>1259.766667</td>\n",
       "    </tr>\n",
       "    <tr>\n",
       "      <th>10</th>\n",
       "      <td>Lincoln Park</td>\n",
       "      <td>1246.533333</td>\n",
       "    </tr>\n",
       "    <tr>\n",
       "      <th>11</th>\n",
       "      <td>East Village</td>\n",
       "      <td>1212.066667</td>\n",
       "    </tr>\n",
       "    <tr>\n",
       "      <th>12</th>\n",
       "      <td>Little Italy, UIC</td>\n",
       "      <td>863.700000</td>\n",
       "    </tr>\n",
       "    <tr>\n",
       "      <th>13</th>\n",
       "      <td>Uptown</td>\n",
       "      <td>849.666667</td>\n",
       "    </tr>\n",
       "    <tr>\n",
       "      <th>14</th>\n",
       "      <td>Near South Side</td>\n",
       "      <td>839.833333</td>\n",
       "    </tr>\n",
       "  </tbody>\n",
       "</table>\n",
       "</div>"
      ],
      "text/plain": [
       "   dropoff_location_name  average_trips\n",
       "0                   Loop   10727.466667\n",
       "1            River North    9523.666667\n",
       "2          Streeterville    6664.666667\n",
       "3              West Loop    5163.666667\n",
       "4                 O'Hare    2546.900000\n",
       "5              Lake View    2420.966667\n",
       "6             Grant Park    2068.533333\n",
       "7          Museum Campus    1510.000000\n",
       "8             Gold Coast    1364.233333\n",
       "9     Sheffield & DePaul    1259.766667\n",
       "10          Lincoln Park    1246.533333\n",
       "11          East Village    1212.066667\n",
       "12     Little Italy, UIC     863.700000\n",
       "13                Uptown     849.666667\n",
       "14       Near South Side     839.833333"
      ]
     },
     "metadata": {},
     "output_type": "display_data"
    }
   ],
   "source": [
    "try:\n",
    "    trips = pd.read_csv('/datasets/project_sql_result_04.csv')  # Attempt to read from the server path\n",
    "except FileNotFoundError:\n",
    "    trips = pd.read_csv('../datasets/moved_project_sql_result_04.csv')  # Fallback to the local path\n",
    "\n",
    "\n",
    "display(trips.head(15))"
   ]
  },
  {
   "cell_type": "markdown",
   "metadata": {},
   "source": [
    "### Trips dataset columns\n",
    "- dropoff_location_name: Chicago neighborhoods where rides ended\n",
    "- average_trips: the average number of rides that ended in each neighborhood in November 2017."
   ]
  },
  {
   "cell_type": "code",
   "execution_count": 214,
   "metadata": {},
   "outputs": [
    {
     "name": "stdout",
     "output_type": "stream",
     "text": [
      "<class 'pandas.core.frame.DataFrame'>\n",
      "RangeIndex: 94 entries, 0 to 93\n",
      "Data columns (total 2 columns):\n",
      " #   Column                 Non-Null Count  Dtype  \n",
      "---  ------                 --------------  -----  \n",
      " 0   dropoff_location_name  94 non-null     object \n",
      " 1   average_trips          94 non-null     float64\n",
      "dtypes: float64(1), object(1)\n",
      "memory usage: 1.6+ KB\n"
     ]
    }
   ],
   "source": [
    "trips.info()"
   ]
  },
  {
   "cell_type": "markdown",
   "metadata": {},
   "source": [
    "#### There is no missing data in the Trips dataset."
   ]
  },
  {
   "cell_type": "markdown",
   "metadata": {},
   "source": [
    "### Read in Weather dataset."
   ]
  },
  {
   "cell_type": "code",
   "execution_count": 217,
   "metadata": {},
   "outputs": [
    {
     "data": {
      "text/html": [
       "<div>\n",
       "<style scoped>\n",
       "    .dataframe tbody tr th:only-of-type {\n",
       "        vertical-align: middle;\n",
       "    }\n",
       "\n",
       "    .dataframe tbody tr th {\n",
       "        vertical-align: top;\n",
       "    }\n",
       "\n",
       "    .dataframe thead th {\n",
       "        text-align: right;\n",
       "    }\n",
       "</style>\n",
       "<table border=\"1\" class=\"dataframe\">\n",
       "  <thead>\n",
       "    <tr style=\"text-align: right;\">\n",
       "      <th></th>\n",
       "      <th>start_ts</th>\n",
       "      <th>weather_conditions</th>\n",
       "      <th>duration_seconds</th>\n",
       "    </tr>\n",
       "  </thead>\n",
       "  <tbody>\n",
       "    <tr>\n",
       "      <th>0</th>\n",
       "      <td>2017-11-25 16:00:00</td>\n",
       "      <td>Good</td>\n",
       "      <td>2410.0</td>\n",
       "    </tr>\n",
       "    <tr>\n",
       "      <th>1</th>\n",
       "      <td>2017-11-25 14:00:00</td>\n",
       "      <td>Good</td>\n",
       "      <td>1920.0</td>\n",
       "    </tr>\n",
       "    <tr>\n",
       "      <th>2</th>\n",
       "      <td>2017-11-25 12:00:00</td>\n",
       "      <td>Good</td>\n",
       "      <td>1543.0</td>\n",
       "    </tr>\n",
       "    <tr>\n",
       "      <th>3</th>\n",
       "      <td>2017-11-04 10:00:00</td>\n",
       "      <td>Good</td>\n",
       "      <td>2512.0</td>\n",
       "    </tr>\n",
       "    <tr>\n",
       "      <th>4</th>\n",
       "      <td>2017-11-11 07:00:00</td>\n",
       "      <td>Good</td>\n",
       "      <td>1440.0</td>\n",
       "    </tr>\n",
       "    <tr>\n",
       "      <th>5</th>\n",
       "      <td>2017-11-11 04:00:00</td>\n",
       "      <td>Good</td>\n",
       "      <td>1320.0</td>\n",
       "    </tr>\n",
       "    <tr>\n",
       "      <th>6</th>\n",
       "      <td>2017-11-04 16:00:00</td>\n",
       "      <td>Bad</td>\n",
       "      <td>2969.0</td>\n",
       "    </tr>\n",
       "    <tr>\n",
       "      <th>7</th>\n",
       "      <td>2017-11-18 11:00:00</td>\n",
       "      <td>Good</td>\n",
       "      <td>2280.0</td>\n",
       "    </tr>\n",
       "    <tr>\n",
       "      <th>8</th>\n",
       "      <td>2017-11-11 14:00:00</td>\n",
       "      <td>Good</td>\n",
       "      <td>2460.0</td>\n",
       "    </tr>\n",
       "    <tr>\n",
       "      <th>9</th>\n",
       "      <td>2017-11-11 12:00:00</td>\n",
       "      <td>Good</td>\n",
       "      <td>2040.0</td>\n",
       "    </tr>\n",
       "    <tr>\n",
       "      <th>10</th>\n",
       "      <td>2017-11-18 06:00:00</td>\n",
       "      <td>Good</td>\n",
       "      <td>1500.0</td>\n",
       "    </tr>\n",
       "    <tr>\n",
       "      <th>11</th>\n",
       "      <td>2017-11-04 11:00:00</td>\n",
       "      <td>Good</td>\n",
       "      <td>2040.0</td>\n",
       "    </tr>\n",
       "    <tr>\n",
       "      <th>12</th>\n",
       "      <td>2017-11-11 08:00:00</td>\n",
       "      <td>Good</td>\n",
       "      <td>1470.0</td>\n",
       "    </tr>\n",
       "    <tr>\n",
       "      <th>13</th>\n",
       "      <td>2017-11-04 08:00:00</td>\n",
       "      <td>Good</td>\n",
       "      <td>1546.0</td>\n",
       "    </tr>\n",
       "    <tr>\n",
       "      <th>14</th>\n",
       "      <td>2017-11-11 16:00:00</td>\n",
       "      <td>Good</td>\n",
       "      <td>2100.0</td>\n",
       "    </tr>\n",
       "  </tbody>\n",
       "</table>\n",
       "</div>"
      ],
      "text/plain": [
       "               start_ts weather_conditions  duration_seconds\n",
       "0   2017-11-25 16:00:00               Good            2410.0\n",
       "1   2017-11-25 14:00:00               Good            1920.0\n",
       "2   2017-11-25 12:00:00               Good            1543.0\n",
       "3   2017-11-04 10:00:00               Good            2512.0\n",
       "4   2017-11-11 07:00:00               Good            1440.0\n",
       "5   2017-11-11 04:00:00               Good            1320.0\n",
       "6   2017-11-04 16:00:00                Bad            2969.0\n",
       "7   2017-11-18 11:00:00               Good            2280.0\n",
       "8   2017-11-11 14:00:00               Good            2460.0\n",
       "9   2017-11-11 12:00:00               Good            2040.0\n",
       "10  2017-11-18 06:00:00               Good            1500.0\n",
       "11  2017-11-04 11:00:00               Good            2040.0\n",
       "12  2017-11-11 08:00:00               Good            1470.0\n",
       "13  2017-11-04 08:00:00               Good            1546.0\n",
       "14  2017-11-11 16:00:00               Good            2100.0"
      ]
     },
     "metadata": {},
     "output_type": "display_data"
    }
   ],
   "source": [
    "try:\n",
    "    weather = pd.read_csv('/datasets/project_sql_result_07.csv', parse_dates=['start_ts'])  # Attempt to read from the server path\n",
    "except FileNotFoundError:\n",
    "    weather = pd.read_csv('../datasets/moved_project_sql_result_07.csv')  # Fallback to the local path\n",
    "\n",
    "\n",
    "display(weather.head(15))"
   ]
  },
  {
   "cell_type": "markdown",
   "metadata": {},
   "source": [
    "####  Weather Dataset columns\n",
    "- start_ts — pickup date and time\n",
    "- weather_conditions — weather conditions at the moment the ride started\n",
    "- duration_seconds: ride duration in seconds\n"
   ]
  },
  {
   "cell_type": "code",
   "execution_count": 219,
   "metadata": {},
   "outputs": [
    {
     "name": "stdout",
     "output_type": "stream",
     "text": [
      "<class 'pandas.core.frame.DataFrame'>\n",
      "RangeIndex: 1068 entries, 0 to 1067\n",
      "Data columns (total 3 columns):\n",
      " #   Column              Non-Null Count  Dtype  \n",
      "---  ------              --------------  -----  \n",
      " 0   start_ts            1068 non-null   object \n",
      " 1   weather_conditions  1068 non-null   object \n",
      " 2   duration_seconds    1068 non-null   float64\n",
      "dtypes: float64(1), object(2)\n",
      "memory usage: 25.2+ KB\n"
     ]
    }
   ],
   "source": [
    "weather.info()"
   ]
  },
  {
   "cell_type": "markdown",
   "metadata": {},
   "source": [
    "#### There is no missing data in the Weather dataset. The start_ts column was read in as type datetime64."
   ]
  },
  {
   "cell_type": "markdown",
   "metadata": {},
   "source": [
    "### There is no missing data, in any of the 3 datasets."
   ]
  },
  {
   "cell_type": "markdown",
   "metadata": {},
   "source": [
    "<h2 style=\"color:red;\">Check Datatypes:</h2>"
   ]
  },
  {
   "cell_type": "code",
   "execution_count": 223,
   "metadata": {},
   "outputs": [
    {
     "data": {
      "text/plain": [
       "company_name    object\n",
       "trips_amount     int64\n",
       "dtype: object"
      ]
     },
     "execution_count": 223,
     "metadata": {},
     "output_type": "execute_result"
    }
   ],
   "source": [
    "company.dtypes"
   ]
  },
  {
   "cell_type": "markdown",
   "metadata": {},
   "source": [
    "#### Company datatypes look good."
   ]
  },
  {
   "cell_type": "code",
   "execution_count": 225,
   "metadata": {},
   "outputs": [
    {
     "data": {
      "text/plain": [
       "dropoff_location_name     object\n",
       "average_trips            float64\n",
       "dtype: object"
      ]
     },
     "execution_count": 225,
     "metadata": {},
     "output_type": "execute_result"
    }
   ],
   "source": [
    "trips.dtypes"
   ]
  },
  {
   "cell_type": "markdown",
   "metadata": {},
   "source": [
    "### Change average_trips to int, in Trips dataframe."
   ]
  },
  {
   "cell_type": "code",
   "execution_count": 227,
   "metadata": {},
   "outputs": [],
   "source": [
    "trips['average_trips'] = trips['average_trips'].astype('int64')"
   ]
  },
  {
   "cell_type": "code",
   "execution_count": 228,
   "metadata": {},
   "outputs": [
    {
     "data": {
      "text/plain": [
       "dropoff_location_name    object\n",
       "average_trips             int64\n",
       "dtype: object"
      ]
     },
     "execution_count": 228,
     "metadata": {},
     "output_type": "execute_result"
    }
   ],
   "source": [
    "trips.dtypes"
   ]
  },
  {
   "cell_type": "markdown",
   "metadata": {},
   "source": [
    "#### Trips datatypes look good."
   ]
  },
  {
   "cell_type": "code",
   "execution_count": 230,
   "metadata": {},
   "outputs": [
    {
     "data": {
      "text/plain": [
       "start_ts               object\n",
       "weather_conditions     object\n",
       "duration_seconds      float64\n",
       "dtype: object"
      ]
     },
     "execution_count": 230,
     "metadata": {},
     "output_type": "execute_result"
    }
   ],
   "source": [
    "weather.dtypes"
   ]
  },
  {
   "cell_type": "code",
   "execution_count": 231,
   "metadata": {},
   "outputs": [],
   "source": [
    "#Convert 'start_ts' to datetime"
   ]
  },
  {
   "cell_type": "code",
   "execution_count": 232,
   "metadata": {},
   "outputs": [],
   "source": [
    "#weather['start_ts'] = pd.to_datetime(weather['start_ts'])"
   ]
  },
  {
   "cell_type": "markdown",
   "metadata": {},
   "source": [
    "### Change duration_seconds to datatype int, in weather dataframe."
   ]
  },
  {
   "cell_type": "code",
   "execution_count": 234,
   "metadata": {},
   "outputs": [],
   "source": [
    "weather['duration_seconds'] = weather['duration_seconds'].astype('int64')"
   ]
  },
  {
   "cell_type": "code",
   "execution_count": 235,
   "metadata": {},
   "outputs": [
    {
     "data": {
      "text/plain": [
       "weather_conditions\n",
       "Good    888\n",
       "Bad     180\n",
       "Name: count, dtype: int64"
      ]
     },
     "execution_count": 235,
     "metadata": {},
     "output_type": "execute_result"
    }
   ],
   "source": [
    "weather.weather_conditions.value_counts()"
   ]
  },
  {
   "cell_type": "markdown",
   "metadata": {},
   "source": [
    "### Convert 'weather_conditions' from object to category, since it is boolean."
   ]
  },
  {
   "cell_type": "code",
   "execution_count": 237,
   "metadata": {},
   "outputs": [],
   "source": [
    "weather['weather_conditions'] = weather['weather_conditions'].astype('category')"
   ]
  },
  {
   "cell_type": "code",
   "execution_count": 238,
   "metadata": {},
   "outputs": [
    {
     "data": {
      "text/plain": [
       "start_ts                object\n",
       "weather_conditions    category\n",
       "duration_seconds         int64\n",
       "dtype: object"
      ]
     },
     "execution_count": 238,
     "metadata": {},
     "output_type": "execute_result"
    }
   ],
   "source": [
    "weather.dtypes"
   ]
  },
  {
   "cell_type": "markdown",
   "metadata": {},
   "source": [
    "#### Weather datatypes look good."
   ]
  },
  {
   "cell_type": "markdown",
   "metadata": {},
   "source": [
    "<h2 style=\"color:red;\">Check Dataframes for Duplicates:</h2>"
   ]
  },
  {
   "cell_type": "markdown",
   "metadata": {},
   "source": [
    "### Company"
   ]
  },
  {
   "cell_type": "code",
   "execution_count": 242,
   "metadata": {},
   "outputs": [
    {
     "name": "stdout",
     "output_type": "stream",
     "text": [
      "0     False\n",
      "1     False\n",
      "2     False\n",
      "3     False\n",
      "4     False\n",
      "      ...  \n",
      "59    False\n",
      "60    False\n",
      "61    False\n",
      "62    False\n",
      "63    False\n",
      "Length: 64, dtype: bool\n"
     ]
    }
   ],
   "source": [
    "# Check for duplicates in the company dataframe\n",
    "duplicates_company = company.duplicated()\n",
    "print(duplicates_company)"
   ]
  },
  {
   "cell_type": "code",
   "execution_count": 243,
   "metadata": {},
   "outputs": [
    {
     "name": "stdout",
     "output_type": "stream",
     "text": [
      "Number of duplicate rows: 0\n"
     ]
    }
   ],
   "source": [
    "# Count the number of duplicate rows in the company dataframe\n",
    "num_duplicates_company = duplicates_company.sum()\n",
    "print(f\"Number of duplicate rows: {num_duplicates_company}\")"
   ]
  },
  {
   "cell_type": "markdown",
   "metadata": {},
   "source": [
    "#### The company dataframe has 0 duplicate rows."
   ]
  },
  {
   "cell_type": "markdown",
   "metadata": {},
   "source": [
    "### Trips"
   ]
  },
  {
   "cell_type": "code",
   "execution_count": 246,
   "metadata": {},
   "outputs": [
    {
     "name": "stdout",
     "output_type": "stream",
     "text": [
      "0     False\n",
      "1     False\n",
      "2     False\n",
      "3     False\n",
      "4     False\n",
      "      ...  \n",
      "89    False\n",
      "90    False\n",
      "91    False\n",
      "92    False\n",
      "93    False\n",
      "Length: 94, dtype: bool\n"
     ]
    }
   ],
   "source": [
    "# Check for duplicates in the trips dataframe\n",
    "duplicates_trips = trips.duplicated()\n",
    "print(duplicates_trips)"
   ]
  },
  {
   "cell_type": "code",
   "execution_count": 247,
   "metadata": {},
   "outputs": [
    {
     "name": "stdout",
     "output_type": "stream",
     "text": [
      "Number of duplicate rows: 0\n"
     ]
    }
   ],
   "source": [
    "# Count the number of duplicate rows in the trips dataframe\n",
    "num_duplicates_trips = duplicates_company.sum()\n",
    "print(f\"Number of duplicate rows: {num_duplicates_trips}\")"
   ]
  },
  {
   "cell_type": "markdown",
   "metadata": {},
   "source": [
    "#### The company dataframe has 0 duplicate rows."
   ]
  },
  {
   "cell_type": "code",
   "execution_count": 249,
   "metadata": {},
   "outputs": [
    {
     "name": "stdout",
     "output_type": "stream",
     "text": [
      "0       False\n",
      "1       False\n",
      "2       False\n",
      "3       False\n",
      "4       False\n",
      "        ...  \n",
      "1063    False\n",
      "1064    False\n",
      "1065     True\n",
      "1066     True\n",
      "1067    False\n",
      "Length: 1068, dtype: bool\n"
     ]
    }
   ],
   "source": [
    "# Check for duplicates in the weather dataframe\n",
    "duplicates_weather = weather.duplicated()\n",
    "print(duplicates_weather)"
   ]
  },
  {
   "cell_type": "code",
   "execution_count": 250,
   "metadata": {},
   "outputs": [
    {
     "name": "stdout",
     "output_type": "stream",
     "text": [
      "Number of duplicate rows: 197\n"
     ]
    }
   ],
   "source": [
    "# Count the number of duplicate rows in the weather dataframe\n",
    "num_duplicates_weather = duplicates_weather.sum()\n",
    "print(f\"Number of duplicate rows: {num_duplicates_weather}\")"
   ]
  },
  {
   "cell_type": "markdown",
   "metadata": {},
   "source": [
    "#### There are 197 duplicate rows in the weather dataframe."
   ]
  },
  {
   "cell_type": "code",
   "execution_count": 252,
   "metadata": {},
   "outputs": [
    {
     "name": "stdout",
     "output_type": "stream",
     "text": [
      "First few duplicate rows:\n",
      "                 start_ts weather_conditions  duration_seconds\n",
      "62   2017-11-11 06:00:00               Good              1260\n",
      "74   2017-11-11 08:00:00               Good              1380\n",
      "76   2017-11-04 09:00:00               Good              1380\n",
      "117  2017-11-11 07:00:00               Good              1380\n",
      "119  2017-11-04 14:00:00               Good              3300\n",
      "125  2017-11-11 08:00:00               Good              1380\n",
      "126  2017-11-11 09:00:00               Good              1380\n",
      "130  2017-11-11 10:00:00               Good              1260\n",
      "179  2017-11-11 06:00:00               Good              1260\n",
      "190  2017-11-04 08:00:00               Good              1323\n",
      "196  2017-11-18 10:00:00                Bad              1440\n",
      "202  2017-11-04 12:00:00               Good              2640\n",
      "207  2017-11-11 08:00:00               Good              1200\n",
      "216  2017-11-04 08:00:00               Good              1380\n",
      "230  2017-11-11 09:00:00               Good              1380\n",
      "233  2017-11-04 18:00:00                Bad              2580\n",
      "250  2017-11-11 06:00:00               Good              1260\n",
      "254  2017-11-04 14:00:00               Good              3120\n",
      "255  2017-11-25 12:00:00               Good              1380\n",
      "260  2017-11-11 11:00:00               Good              1620\n"
     ]
    }
   ],
   "source": [
    " # Display the first few duplicate rows (optional)\n",
    " duplicate_rows_weather = weather[duplicates_weather]\n",
    " print(\"First few duplicate rows:\\n\", duplicate_rows_weather.head(20))"
   ]
  },
  {
   "cell_type": "markdown",
   "metadata": {},
   "source": [
    "### Delete duplicates from weather."
   ]
  },
  {
   "cell_type": "code",
   "execution_count": 254,
   "metadata": {},
   "outputs": [],
   "source": [
    "# Remove 197 rows where all columns are duplicates of another row\n",
    "weather = weather.drop_duplicates()"
   ]
  },
  {
   "cell_type": "code",
   "execution_count": 255,
   "metadata": {},
   "outputs": [
    {
     "name": "stdout",
     "output_type": "stream",
     "text": [
      "<class 'pandas.core.frame.DataFrame'>\n",
      "Index: 871 entries, 0 to 1067\n",
      "Data columns (total 3 columns):\n",
      " #   Column              Non-Null Count  Dtype   \n",
      "---  ------              --------------  -----   \n",
      " 0   start_ts            871 non-null    object  \n",
      " 1   weather_conditions  871 non-null    category\n",
      " 2   duration_seconds    871 non-null    int64   \n",
      "dtypes: category(1), int64(1), object(1)\n",
      "memory usage: 21.4+ KB\n"
     ]
    }
   ],
   "source": [
    "weather.info()"
   ]
  },
  {
   "cell_type": "code",
   "execution_count": 256,
   "metadata": {},
   "outputs": [
    {
     "data": {
      "text/plain": [
       "871"
      ]
     },
     "execution_count": 256,
     "metadata": {},
     "output_type": "execute_result"
    }
   ],
   "source": [
    "1068 - 197"
   ]
  },
  {
   "cell_type": "code",
   "execution_count": 257,
   "metadata": {},
   "outputs": [
    {
     "name": "stdout",
     "output_type": "stream",
     "text": [
      "0       False\n",
      "1       False\n",
      "2       False\n",
      "3       False\n",
      "4       False\n",
      "        ...  \n",
      "1060    False\n",
      "1061    False\n",
      "1063    False\n",
      "1064    False\n",
      "1067    False\n",
      "Length: 871, dtype: bool\n"
     ]
    }
   ],
   "source": [
    "# Check for duplicates in the weather dataframe\n",
    "duplicates_weather = weather.duplicated()\n",
    "print(duplicates_weather)"
   ]
  },
  {
   "cell_type": "code",
   "execution_count": 258,
   "metadata": {},
   "outputs": [
    {
     "name": "stdout",
     "output_type": "stream",
     "text": [
      "Number of duplicate rows: 0\n"
     ]
    }
   ],
   "source": [
    "# Count the number of duplicate rows in the weather dataframe\n",
    "num_duplicates_weather = duplicates_weather.sum()\n",
    "print(f\"Number of duplicate rows: {num_duplicates_weather}\")"
   ]
  },
  {
   "cell_type": "markdown",
   "metadata": {},
   "source": [
    "#### 197 rows removed from the weather dataframe.\n",
    "#### weather is clean now."
   ]
  },
  {
   "cell_type": "markdown",
   "metadata": {},
   "source": [
    "### Data is clean now."
   ]
  },
  {
   "cell_type": "markdown",
   "metadata": {},
   "source": [
    "<h2 style=\"color:red;\">Analyze data:</h2>"
   ]
  },
  {
   "cell_type": "markdown",
   "metadata": {},
   "source": [
    "## Identify the top 10 neighborhoods in terms of drop-offs:"
   ]
  },
  {
   "cell_type": "code",
   "execution_count": 263,
   "metadata": {},
   "outputs": [
    {
     "name": "stdout",
     "output_type": "stream",
     "text": [
      "  dropoff_location_name  average_trips\n",
      "0                  Loop          10727\n",
      "1           River North           9523\n",
      "2         Streeterville           6664\n",
      "3             West Loop           5163\n",
      "4                O'Hare           2546\n",
      "5             Lake View           2420\n",
      "6            Grant Park           2068\n",
      "7         Museum Campus           1510\n",
      "8            Gold Coast           1364\n",
      "9    Sheffield & DePaul           1259\n"
     ]
    }
   ],
   "source": [
    "# Sort the dataFrame by 'average_trips' column in descending order\n",
    "trips_sorted = trips.sort_values(by='average_trips', ascending=False)\n",
    "\n",
    "# Select the top 10 neighborhoods\n",
    "top_10_neighborhoods = trips_sorted.head(10)\n",
    "\n",
    "# Print the top 10 neighborhoods\n",
    "print(top_10_neighborhoods)"
   ]
  },
  {
   "cell_type": "markdown",
   "metadata": {},
   "source": [
    "#### Loop is the most popular neighborhood for a drop off spot. River North is runner up. "
   ]
  },
  {
   "cell_type": "markdown",
   "metadata": {},
   "source": [
    "<h2 style=\"color:red;\">Graph the Data:</h2>"
   ]
  },
  {
   "cell_type": "markdown",
   "metadata": {},
   "source": [
    "## Top 10 Neighborhoods by Number of Dropoffs"
   ]
  },
  {
   "cell_type": "code",
   "execution_count": 267,
   "metadata": {},
   "outputs": [
    {
     "data": {
      "application/vnd.plotly.v1+json": {
       "config": {
        "plotlyServerURL": "https://plot.ly"
       },
       "data": [
        {
         "alignmentgroup": "True",
         "hovertemplate": "Dropoff Location=%{x}<br>Average number of Trips=%{marker.color}<extra></extra>",
         "legendgroup": "",
         "marker": {
          "color": [
           10727,
           9523,
           6664,
           5163,
           2546,
           2420,
           2068,
           1510,
           1364,
           1259
          ],
          "coloraxis": "coloraxis",
          "pattern": {
           "shape": ""
          }
         },
         "name": "",
         "offsetgroup": "",
         "orientation": "v",
         "showlegend": false,
         "textposition": "auto",
         "type": "bar",
         "x": [
          "Loop",
          "River North",
          "Streeterville",
          "West Loop",
          "O'Hare",
          "Lake View",
          "Grant Park",
          "Museum Campus",
          "Gold Coast",
          "Sheffield & DePaul"
         ],
         "xaxis": "x",
         "y": [
          10727,
          9523,
          6664,
          5163,
          2546,
          2420,
          2068,
          1510,
          1364,
          1259
         ],
         "yaxis": "y"
        }
       ],
       "layout": {
        "autosize": true,
        "barmode": "relative",
        "coloraxis": {
         "colorbar": {
          "title": {
           "text": "Average number of Trips"
          }
         },
         "colorscale": [
          [
           0,
           "#440154"
          ],
          [
           0.1111111111111111,
           "#482878"
          ],
          [
           0.2222222222222222,
           "#3e4989"
          ],
          [
           0.3333333333333333,
           "#31688e"
          ],
          [
           0.4444444444444444,
           "#26828e"
          ],
          [
           0.5555555555555556,
           "#1f9e89"
          ],
          [
           0.6666666666666666,
           "#35b779"
          ],
          [
           0.7777777777777778,
           "#6ece58"
          ],
          [
           0.8888888888888888,
           "#b5de2b"
          ],
          [
           1,
           "#fde725"
          ]
         ]
        },
        "legend": {
         "tracegroupgap": 0
        },
        "template": {
         "data": {
          "bar": [
           {
            "error_x": {
             "color": "#2a3f5f"
            },
            "error_y": {
             "color": "#2a3f5f"
            },
            "marker": {
             "line": {
              "color": "#E5ECF6",
              "width": 0.5
             },
             "pattern": {
              "fillmode": "overlay",
              "size": 10,
              "solidity": 0.2
             }
            },
            "type": "bar"
           }
          ],
          "barpolar": [
           {
            "marker": {
             "line": {
              "color": "#E5ECF6",
              "width": 0.5
             },
             "pattern": {
              "fillmode": "overlay",
              "size": 10,
              "solidity": 0.2
             }
            },
            "type": "barpolar"
           }
          ],
          "carpet": [
           {
            "aaxis": {
             "endlinecolor": "#2a3f5f",
             "gridcolor": "white",
             "linecolor": "white",
             "minorgridcolor": "white",
             "startlinecolor": "#2a3f5f"
            },
            "baxis": {
             "endlinecolor": "#2a3f5f",
             "gridcolor": "white",
             "linecolor": "white",
             "minorgridcolor": "white",
             "startlinecolor": "#2a3f5f"
            },
            "type": "carpet"
           }
          ],
          "choropleth": [
           {
            "colorbar": {
             "outlinewidth": 0,
             "ticks": ""
            },
            "type": "choropleth"
           }
          ],
          "contour": [
           {
            "colorbar": {
             "outlinewidth": 0,
             "ticks": ""
            },
            "colorscale": [
             [
              0,
              "#0d0887"
             ],
             [
              0.1111111111111111,
              "#46039f"
             ],
             [
              0.2222222222222222,
              "#7201a8"
             ],
             [
              0.3333333333333333,
              "#9c179e"
             ],
             [
              0.4444444444444444,
              "#bd3786"
             ],
             [
              0.5555555555555556,
              "#d8576b"
             ],
             [
              0.6666666666666666,
              "#ed7953"
             ],
             [
              0.7777777777777778,
              "#fb9f3a"
             ],
             [
              0.8888888888888888,
              "#fdca26"
             ],
             [
              1,
              "#f0f921"
             ]
            ],
            "type": "contour"
           }
          ],
          "contourcarpet": [
           {
            "colorbar": {
             "outlinewidth": 0,
             "ticks": ""
            },
            "type": "contourcarpet"
           }
          ],
          "heatmap": [
           {
            "colorbar": {
             "outlinewidth": 0,
             "ticks": ""
            },
            "colorscale": [
             [
              0,
              "#0d0887"
             ],
             [
              0.1111111111111111,
              "#46039f"
             ],
             [
              0.2222222222222222,
              "#7201a8"
             ],
             [
              0.3333333333333333,
              "#9c179e"
             ],
             [
              0.4444444444444444,
              "#bd3786"
             ],
             [
              0.5555555555555556,
              "#d8576b"
             ],
             [
              0.6666666666666666,
              "#ed7953"
             ],
             [
              0.7777777777777778,
              "#fb9f3a"
             ],
             [
              0.8888888888888888,
              "#fdca26"
             ],
             [
              1,
              "#f0f921"
             ]
            ],
            "type": "heatmap"
           }
          ],
          "heatmapgl": [
           {
            "colorbar": {
             "outlinewidth": 0,
             "ticks": ""
            },
            "colorscale": [
             [
              0,
              "#0d0887"
             ],
             [
              0.1111111111111111,
              "#46039f"
             ],
             [
              0.2222222222222222,
              "#7201a8"
             ],
             [
              0.3333333333333333,
              "#9c179e"
             ],
             [
              0.4444444444444444,
              "#bd3786"
             ],
             [
              0.5555555555555556,
              "#d8576b"
             ],
             [
              0.6666666666666666,
              "#ed7953"
             ],
             [
              0.7777777777777778,
              "#fb9f3a"
             ],
             [
              0.8888888888888888,
              "#fdca26"
             ],
             [
              1,
              "#f0f921"
             ]
            ],
            "type": "heatmapgl"
           }
          ],
          "histogram": [
           {
            "marker": {
             "pattern": {
              "fillmode": "overlay",
              "size": 10,
              "solidity": 0.2
             }
            },
            "type": "histogram"
           }
          ],
          "histogram2d": [
           {
            "colorbar": {
             "outlinewidth": 0,
             "ticks": ""
            },
            "colorscale": [
             [
              0,
              "#0d0887"
             ],
             [
              0.1111111111111111,
              "#46039f"
             ],
             [
              0.2222222222222222,
              "#7201a8"
             ],
             [
              0.3333333333333333,
              "#9c179e"
             ],
             [
              0.4444444444444444,
              "#bd3786"
             ],
             [
              0.5555555555555556,
              "#d8576b"
             ],
             [
              0.6666666666666666,
              "#ed7953"
             ],
             [
              0.7777777777777778,
              "#fb9f3a"
             ],
             [
              0.8888888888888888,
              "#fdca26"
             ],
             [
              1,
              "#f0f921"
             ]
            ],
            "type": "histogram2d"
           }
          ],
          "histogram2dcontour": [
           {
            "colorbar": {
             "outlinewidth": 0,
             "ticks": ""
            },
            "colorscale": [
             [
              0,
              "#0d0887"
             ],
             [
              0.1111111111111111,
              "#46039f"
             ],
             [
              0.2222222222222222,
              "#7201a8"
             ],
             [
              0.3333333333333333,
              "#9c179e"
             ],
             [
              0.4444444444444444,
              "#bd3786"
             ],
             [
              0.5555555555555556,
              "#d8576b"
             ],
             [
              0.6666666666666666,
              "#ed7953"
             ],
             [
              0.7777777777777778,
              "#fb9f3a"
             ],
             [
              0.8888888888888888,
              "#fdca26"
             ],
             [
              1,
              "#f0f921"
             ]
            ],
            "type": "histogram2dcontour"
           }
          ],
          "mesh3d": [
           {
            "colorbar": {
             "outlinewidth": 0,
             "ticks": ""
            },
            "type": "mesh3d"
           }
          ],
          "parcoords": [
           {
            "line": {
             "colorbar": {
              "outlinewidth": 0,
              "ticks": ""
             }
            },
            "type": "parcoords"
           }
          ],
          "pie": [
           {
            "automargin": true,
            "type": "pie"
           }
          ],
          "scatter": [
           {
            "fillpattern": {
             "fillmode": "overlay",
             "size": 10,
             "solidity": 0.2
            },
            "type": "scatter"
           }
          ],
          "scatter3d": [
           {
            "line": {
             "colorbar": {
              "outlinewidth": 0,
              "ticks": ""
             }
            },
            "marker": {
             "colorbar": {
              "outlinewidth": 0,
              "ticks": ""
             }
            },
            "type": "scatter3d"
           }
          ],
          "scattercarpet": [
           {
            "marker": {
             "colorbar": {
              "outlinewidth": 0,
              "ticks": ""
             }
            },
            "type": "scattercarpet"
           }
          ],
          "scattergeo": [
           {
            "marker": {
             "colorbar": {
              "outlinewidth": 0,
              "ticks": ""
             }
            },
            "type": "scattergeo"
           }
          ],
          "scattergl": [
           {
            "marker": {
             "colorbar": {
              "outlinewidth": 0,
              "ticks": ""
             }
            },
            "type": "scattergl"
           }
          ],
          "scattermapbox": [
           {
            "marker": {
             "colorbar": {
              "outlinewidth": 0,
              "ticks": ""
             }
            },
            "type": "scattermapbox"
           }
          ],
          "scatterpolar": [
           {
            "marker": {
             "colorbar": {
              "outlinewidth": 0,
              "ticks": ""
             }
            },
            "type": "scatterpolar"
           }
          ],
          "scatterpolargl": [
           {
            "marker": {
             "colorbar": {
              "outlinewidth": 0,
              "ticks": ""
             }
            },
            "type": "scatterpolargl"
           }
          ],
          "scatterternary": [
           {
            "marker": {
             "colorbar": {
              "outlinewidth": 0,
              "ticks": ""
             }
            },
            "type": "scatterternary"
           }
          ],
          "surface": [
           {
            "colorbar": {
             "outlinewidth": 0,
             "ticks": ""
            },
            "colorscale": [
             [
              0,
              "#0d0887"
             ],
             [
              0.1111111111111111,
              "#46039f"
             ],
             [
              0.2222222222222222,
              "#7201a8"
             ],
             [
              0.3333333333333333,
              "#9c179e"
             ],
             [
              0.4444444444444444,
              "#bd3786"
             ],
             [
              0.5555555555555556,
              "#d8576b"
             ],
             [
              0.6666666666666666,
              "#ed7953"
             ],
             [
              0.7777777777777778,
              "#fb9f3a"
             ],
             [
              0.8888888888888888,
              "#fdca26"
             ],
             [
              1,
              "#f0f921"
             ]
            ],
            "type": "surface"
           }
          ],
          "table": [
           {
            "cells": {
             "fill": {
              "color": "#EBF0F8"
             },
             "line": {
              "color": "white"
             }
            },
            "header": {
             "fill": {
              "color": "#C8D4E3"
             },
             "line": {
              "color": "white"
             }
            },
            "type": "table"
           }
          ]
         },
         "layout": {
          "annotationdefaults": {
           "arrowcolor": "#2a3f5f",
           "arrowhead": 0,
           "arrowwidth": 1
          },
          "autotypenumbers": "strict",
          "coloraxis": {
           "colorbar": {
            "outlinewidth": 0,
            "ticks": ""
           }
          },
          "colorscale": {
           "diverging": [
            [
             0,
             "#8e0152"
            ],
            [
             0.1,
             "#c51b7d"
            ],
            [
             0.2,
             "#de77ae"
            ],
            [
             0.3,
             "#f1b6da"
            ],
            [
             0.4,
             "#fde0ef"
            ],
            [
             0.5,
             "#f7f7f7"
            ],
            [
             0.6,
             "#e6f5d0"
            ],
            [
             0.7,
             "#b8e186"
            ],
            [
             0.8,
             "#7fbc41"
            ],
            [
             0.9,
             "#4d9221"
            ],
            [
             1,
             "#276419"
            ]
           ],
           "sequential": [
            [
             0,
             "#0d0887"
            ],
            [
             0.1111111111111111,
             "#46039f"
            ],
            [
             0.2222222222222222,
             "#7201a8"
            ],
            [
             0.3333333333333333,
             "#9c179e"
            ],
            [
             0.4444444444444444,
             "#bd3786"
            ],
            [
             0.5555555555555556,
             "#d8576b"
            ],
            [
             0.6666666666666666,
             "#ed7953"
            ],
            [
             0.7777777777777778,
             "#fb9f3a"
            ],
            [
             0.8888888888888888,
             "#fdca26"
            ],
            [
             1,
             "#f0f921"
            ]
           ],
           "sequentialminus": [
            [
             0,
             "#0d0887"
            ],
            [
             0.1111111111111111,
             "#46039f"
            ],
            [
             0.2222222222222222,
             "#7201a8"
            ],
            [
             0.3333333333333333,
             "#9c179e"
            ],
            [
             0.4444444444444444,
             "#bd3786"
            ],
            [
             0.5555555555555556,
             "#d8576b"
            ],
            [
             0.6666666666666666,
             "#ed7953"
            ],
            [
             0.7777777777777778,
             "#fb9f3a"
            ],
            [
             0.8888888888888888,
             "#fdca26"
            ],
            [
             1,
             "#f0f921"
            ]
           ]
          },
          "colorway": [
           "#636efa",
           "#EF553B",
           "#00cc96",
           "#ab63fa",
           "#FFA15A",
           "#19d3f3",
           "#FF6692",
           "#B6E880",
           "#FF97FF",
           "#FECB52"
          ],
          "font": {
           "color": "#2a3f5f"
          },
          "geo": {
           "bgcolor": "white",
           "lakecolor": "white",
           "landcolor": "#E5ECF6",
           "showlakes": true,
           "showland": true,
           "subunitcolor": "white"
          },
          "hoverlabel": {
           "align": "left"
          },
          "hovermode": "closest",
          "mapbox": {
           "style": "light"
          },
          "paper_bgcolor": "white",
          "plot_bgcolor": "#E5ECF6",
          "polar": {
           "angularaxis": {
            "gridcolor": "white",
            "linecolor": "white",
            "ticks": ""
           },
           "bgcolor": "#E5ECF6",
           "radialaxis": {
            "gridcolor": "white",
            "linecolor": "white",
            "ticks": ""
           }
          },
          "scene": {
           "xaxis": {
            "backgroundcolor": "#E5ECF6",
            "gridcolor": "white",
            "gridwidth": 2,
            "linecolor": "white",
            "showbackground": true,
            "ticks": "",
            "zerolinecolor": "white"
           },
           "yaxis": {
            "backgroundcolor": "#E5ECF6",
            "gridcolor": "white",
            "gridwidth": 2,
            "linecolor": "white",
            "showbackground": true,
            "ticks": "",
            "zerolinecolor": "white"
           },
           "zaxis": {
            "backgroundcolor": "#E5ECF6",
            "gridcolor": "white",
            "gridwidth": 2,
            "linecolor": "white",
            "showbackground": true,
            "ticks": "",
            "zerolinecolor": "white"
           }
          },
          "shapedefaults": {
           "line": {
            "color": "#2a3f5f"
           }
          },
          "ternary": {
           "aaxis": {
            "gridcolor": "white",
            "linecolor": "white",
            "ticks": ""
           },
           "baxis": {
            "gridcolor": "white",
            "linecolor": "white",
            "ticks": ""
           },
           "bgcolor": "#E5ECF6",
           "caxis": {
            "gridcolor": "white",
            "linecolor": "white",
            "ticks": ""
           }
          },
          "title": {
           "x": 0.05
          },
          "xaxis": {
           "automargin": true,
           "gridcolor": "white",
           "linecolor": "white",
           "ticks": "",
           "title": {
            "standoff": 15
           },
           "zerolinecolor": "white",
           "zerolinewidth": 2
          },
          "yaxis": {
           "automargin": true,
           "gridcolor": "white",
           "linecolor": "white",
           "ticks": "",
           "title": {
            "standoff": 15
           },
           "zerolinecolor": "white",
           "zerolinewidth": 2
          }
         }
        },
        "title": {
         "font": {
          "size": 24
         },
         "text": "Top 10 Neighborhoods by Number of Dropoffs",
         "x": 0.5,
         "xanchor": "center",
         "y": 0.9,
         "yanchor": "top"
        },
        "xaxis": {
         "anchor": "y",
         "autorange": true,
         "domain": [
          0,
          1
         ],
         "range": [
          -0.5,
          9.5
         ],
         "title": {
          "font": {
           "size": 18
          },
          "text": "Dropoff Location"
         },
         "type": "category"
        },
        "yaxis": {
         "anchor": "x",
         "autorange": true,
         "domain": [
          0,
          1
         ],
         "range": [
          0,
          11291.578947368422
         ],
         "title": {
          "font": {
           "size": 18
          },
          "text": "Average number of Trips"
         },
         "type": "linear"
        }
       }
      },
      "image/png": "[encoded data removed]",
      "text/html": [
       "<div>                            <div id=\"4a2165b5-80e0-4506-9ab5-66617bc9c0e0\" class=\"plotly-graph-div\" style=\"height:525px; width:100%;\"></div>            <script type=\"text/javascript\">                require([\"plotly\"], function(Plotly) {                    window.PLOTLYENV=window.PLOTLYENV || {};                                    if (document.getElementById(\"4a2165b5-80e0-4506-9ab5-66617bc9c0e0\")) {                    Plotly.newPlot(                        \"4a2165b5-80e0-4506-9ab5-66617bc9c0e0\",                        [{\"alignmentgroup\":\"True\",\"hovertemplate\":\"Dropoff Location=%{x}\\u003cbr\\u003eAverage number of Trips=%{marker.color}\\u003cextra\\u003e\\u003c\\u002fextra\\u003e\",\"legendgroup\":\"\",\"marker\":{\"color\":[10727,9523,6664,5163,2546,2420,2068,1510,1364,1259],\"coloraxis\":\"coloraxis\",\"pattern\":{\"shape\":\"\"}},\"name\":\"\",\"offsetgroup\":\"\",\"orientation\":\"v\",\"showlegend\":false,\"textposition\":\"auto\",\"x\":[\"Loop\",\"River North\",\"Streeterville\",\"West Loop\",\"O'Hare\",\"Lake View\",\"Grant Park\",\"Museum Campus\",\"Gold Coast\",\"Sheffield & DePaul\"],\"xaxis\":\"x\",\"y\":[10727,9523,6664,5163,2546,2420,2068,1510,1364,1259],\"yaxis\":\"y\",\"type\":\"bar\"}],                        {\"template\":{\"data\":{\"histogram2dcontour\":[{\"type\":\"histogram2dcontour\",\"colorbar\":{\"outlinewidth\":0,\"ticks\":\"\"},\"colorscale\":[[0.0,\"#0d0887\"],[0.1111111111111111,\"#46039f\"],[0.2222222222222222,\"#7201a8\"],[0.3333333333333333,\"#9c179e\"],[0.4444444444444444,\"#bd3786\"],[0.5555555555555556,\"#d8576b\"],[0.6666666666666666,\"#ed7953\"],[0.7777777777777778,\"#fb9f3a\"],[0.8888888888888888,\"#fdca26\"],[1.0,\"#f0f921\"]]}],\"choropleth\":[{\"type\":\"choropleth\",\"colorbar\":{\"outlinewidth\":0,\"ticks\":\"\"}}],\"histogram2d\":[{\"type\":\"histogram2d\",\"colorbar\":{\"outlinewidth\":0,\"ticks\":\"\"},\"colorscale\":[[0.0,\"#0d0887\"],[0.1111111111111111,\"#46039f\"],[0.2222222222222222,\"#7201a8\"],[0.3333333333333333,\"#9c179e\"],[0.4444444444444444,\"#bd3786\"],[0.5555555555555556,\"#d8576b\"],[0.6666666666666666,\"#ed7953\"],[0.7777777777777778,\"#fb9f3a\"],[0.8888888888888888,\"#fdca26\"],[1.0,\"#f0f921\"]]}],\"heatmap\":[{\"type\":\"heatmap\",\"colorbar\":{\"outlinewidth\":0,\"ticks\":\"\"},\"colorscale\":[[0.0,\"#0d0887\"],[0.1111111111111111,\"#46039f\"],[0.2222222222222222,\"#7201a8\"],[0.3333333333333333,\"#9c179e\"],[0.4444444444444444,\"#bd3786\"],[0.5555555555555556,\"#d8576b\"],[0.6666666666666666,\"#ed7953\"],[0.7777777777777778,\"#fb9f3a\"],[0.8888888888888888,\"#fdca26\"],[1.0,\"#f0f921\"]]}],\"heatmapgl\":[{\"type\":\"heatmapgl\",\"colorbar\":{\"outlinewidth\":0,\"ticks\":\"\"},\"colorscale\":[[0.0,\"#0d0887\"],[0.1111111111111111,\"#46039f\"],[0.2222222222222222,\"#7201a8\"],[0.3333333333333333,\"#9c179e\"],[0.4444444444444444,\"#bd3786\"],[0.5555555555555556,\"#d8576b\"],[0.6666666666666666,\"#ed7953\"],[0.7777777777777778,\"#fb9f3a\"],[0.8888888888888888,\"#fdca26\"],[1.0,\"#f0f921\"]]}],\"contourcarpet\":[{\"type\":\"contourcarpet\",\"colorbar\":{\"outlinewidth\":0,\"ticks\":\"\"}}],\"contour\":[{\"type\":\"contour\",\"colorbar\":{\"outlinewidth\":0,\"ticks\":\"\"},\"colorscale\":[[0.0,\"#0d0887\"],[0.1111111111111111,\"#46039f\"],[0.2222222222222222,\"#7201a8\"],[0.3333333333333333,\"#9c179e\"],[0.4444444444444444,\"#bd3786\"],[0.5555555555555556,\"#d8576b\"],[0.6666666666666666,\"#ed7953\"],[0.7777777777777778,\"#fb9f3a\"],[0.8888888888888888,\"#fdca26\"],[1.0,\"#f0f921\"]]}],\"surface\":[{\"type\":\"surface\",\"colorbar\":{\"outlinewidth\":0,\"ticks\":\"\"},\"colorscale\":[[0.0,\"#0d0887\"],[0.1111111111111111,\"#46039f\"],[0.2222222222222222,\"#7201a8\"],[0.3333333333333333,\"#9c179e\"],[0.4444444444444444,\"#bd3786\"],[0.5555555555555556,\"#d8576b\"],[0.6666666666666666,\"#ed7953\"],[0.7777777777777778,\"#fb9f3a\"],[0.8888888888888888,\"#fdca26\"],[1.0,\"#f0f921\"]]}],\"mesh3d\":[{\"type\":\"mesh3d\",\"colorbar\":{\"outlinewidth\":0,\"ticks\":\"\"}}],\"scatter\":[{\"fillpattern\":{\"fillmode\":\"overlay\",\"size\":10,\"solidity\":0.2},\"type\":\"scatter\"}],\"parcoords\":[{\"type\":\"parcoords\",\"line\":{\"colorbar\":{\"outlinewidth\":0,\"ticks\":\"\"}}}],\"scatterpolargl\":[{\"type\":\"scatterpolargl\",\"marker\":{\"colorbar\":{\"outlinewidth\":0,\"ticks\":\"\"}}}],\"bar\":[{\"error_x\":{\"color\":\"#2a3f5f\"},\"error_y\":{\"color\":\"#2a3f5f\"},\"marker\":{\"line\":{\"color\":\"#E5ECF6\",\"width\":0.5},\"pattern\":{\"fillmode\":\"overlay\",\"size\":10,\"solidity\":0.2}},\"type\":\"bar\"}],\"scattergeo\":[{\"type\":\"scattergeo\",\"marker\":{\"colorbar\":{\"outlinewidth\":0,\"ticks\":\"\"}}}],\"scatterpolar\":[{\"type\":\"scatterpolar\",\"marker\":{\"colorbar\":{\"outlinewidth\":0,\"ticks\":\"\"}}}],\"histogram\":[{\"marker\":{\"pattern\":{\"fillmode\":\"overlay\",\"size\":10,\"solidity\":0.2}},\"type\":\"histogram\"}],\"scattergl\":[{\"type\":\"scattergl\",\"marker\":{\"colorbar\":{\"outlinewidth\":0,\"ticks\":\"\"}}}],\"scatter3d\":[{\"type\":\"scatter3d\",\"line\":{\"colorbar\":{\"outlinewidth\":0,\"ticks\":\"\"}},\"marker\":{\"colorbar\":{\"outlinewidth\":0,\"ticks\":\"\"}}}],\"scattermapbox\":[{\"type\":\"scattermapbox\",\"marker\":{\"colorbar\":{\"outlinewidth\":0,\"ticks\":\"\"}}}],\"scatterternary\":[{\"type\":\"scatterternary\",\"marker\":{\"colorbar\":{\"outlinewidth\":0,\"ticks\":\"\"}}}],\"scattercarpet\":[{\"type\":\"scattercarpet\",\"marker\":{\"colorbar\":{\"outlinewidth\":0,\"ticks\":\"\"}}}],\"carpet\":[{\"aaxis\":{\"endlinecolor\":\"#2a3f5f\",\"gridcolor\":\"white\",\"linecolor\":\"white\",\"minorgridcolor\":\"white\",\"startlinecolor\":\"#2a3f5f\"},\"baxis\":{\"endlinecolor\":\"#2a3f5f\",\"gridcolor\":\"white\",\"linecolor\":\"white\",\"minorgridcolor\":\"white\",\"startlinecolor\":\"#2a3f5f\"},\"type\":\"carpet\"}],\"table\":[{\"cells\":{\"fill\":{\"color\":\"#EBF0F8\"},\"line\":{\"color\":\"white\"}},\"header\":{\"fill\":{\"color\":\"#C8D4E3\"},\"line\":{\"color\":\"white\"}},\"type\":\"table\"}],\"barpolar\":[{\"marker\":{\"line\":{\"color\":\"#E5ECF6\",\"width\":0.5},\"pattern\":{\"fillmode\":\"overlay\",\"size\":10,\"solidity\":0.2}},\"type\":\"barpolar\"}],\"pie\":[{\"automargin\":true,\"type\":\"pie\"}]},\"layout\":{\"autotypenumbers\":\"strict\",\"colorway\":[\"#636efa\",\"#EF553B\",\"#00cc96\",\"#ab63fa\",\"#FFA15A\",\"#19d3f3\",\"#FF6692\",\"#B6E880\",\"#FF97FF\",\"#FECB52\"],\"font\":{\"color\":\"#2a3f5f\"},\"hovermode\":\"closest\",\"hoverlabel\":{\"align\":\"left\"},\"paper_bgcolor\":\"white\",\"plot_bgcolor\":\"#E5ECF6\",\"polar\":{\"bgcolor\":\"#E5ECF6\",\"angularaxis\":{\"gridcolor\":\"white\",\"linecolor\":\"white\",\"ticks\":\"\"},\"radialaxis\":{\"gridcolor\":\"white\",\"linecolor\":\"white\",\"ticks\":\"\"}},\"ternary\":{\"bgcolor\":\"#E5ECF6\",\"aaxis\":{\"gridcolor\":\"white\",\"linecolor\":\"white\",\"ticks\":\"\"},\"baxis\":{\"gridcolor\":\"white\",\"linecolor\":\"white\",\"ticks\":\"\"},\"caxis\":{\"gridcolor\":\"white\",\"linecolor\":\"white\",\"ticks\":\"\"}},\"coloraxis\":{\"colorbar\":{\"outlinewidth\":0,\"ticks\":\"\"}},\"colorscale\":{\"sequential\":[[0.0,\"#0d0887\"],[0.1111111111111111,\"#46039f\"],[0.2222222222222222,\"#7201a8\"],[0.3333333333333333,\"#9c179e\"],[0.4444444444444444,\"#bd3786\"],[0.5555555555555556,\"#d8576b\"],[0.6666666666666666,\"#ed7953\"],[0.7777777777777778,\"#fb9f3a\"],[0.8888888888888888,\"#fdca26\"],[1.0,\"#f0f921\"]],\"sequentialminus\":[[0.0,\"#0d0887\"],[0.1111111111111111,\"#46039f\"],[0.2222222222222222,\"#7201a8\"],[0.3333333333333333,\"#9c179e\"],[0.4444444444444444,\"#bd3786\"],[0.5555555555555556,\"#d8576b\"],[0.6666666666666666,\"#ed7953\"],[0.7777777777777778,\"#fb9f3a\"],[0.8888888888888888,\"#fdca26\"],[1.0,\"#f0f921\"]],\"diverging\":[[0,\"#8e0152\"],[0.1,\"#c51b7d\"],[0.2,\"#de77ae\"],[0.3,\"#f1b6da\"],[0.4,\"#fde0ef\"],[0.5,\"#f7f7f7\"],[0.6,\"#e6f5d0\"],[0.7,\"#b8e186\"],[0.8,\"#7fbc41\"],[0.9,\"#4d9221\"],[1,\"#276419\"]]},\"xaxis\":{\"gridcolor\":\"white\",\"linecolor\":\"white\",\"ticks\":\"\",\"title\":{\"standoff\":15},\"zerolinecolor\":\"white\",\"automargin\":true,\"zerolinewidth\":2},\"yaxis\":{\"gridcolor\":\"white\",\"linecolor\":\"white\",\"ticks\":\"\",\"title\":{\"standoff\":15},\"zerolinecolor\":\"white\",\"automargin\":true,\"zerolinewidth\":2},\"scene\":{\"xaxis\":{\"backgroundcolor\":\"#E5ECF6\",\"gridcolor\":\"white\",\"linecolor\":\"white\",\"showbackground\":true,\"ticks\":\"\",\"zerolinecolor\":\"white\",\"gridwidth\":2},\"yaxis\":{\"backgroundcolor\":\"#E5ECF6\",\"gridcolor\":\"white\",\"linecolor\":\"white\",\"showbackground\":true,\"ticks\":\"\",\"zerolinecolor\":\"white\",\"gridwidth\":2},\"zaxis\":{\"backgroundcolor\":\"#E5ECF6\",\"gridcolor\":\"white\",\"linecolor\":\"white\",\"showbackground\":true,\"ticks\":\"\",\"zerolinecolor\":\"white\",\"gridwidth\":2}},\"shapedefaults\":{\"line\":{\"color\":\"#2a3f5f\"}},\"annotationdefaults\":{\"arrowcolor\":\"#2a3f5f\",\"arrowhead\":0,\"arrowwidth\":1},\"geo\":{\"bgcolor\":\"white\",\"landcolor\":\"#E5ECF6\",\"subunitcolor\":\"white\",\"showland\":true,\"showlakes\":true,\"lakecolor\":\"white\"},\"title\":{\"x\":0.05},\"mapbox\":{\"style\":\"light\"}}},\"xaxis\":{\"anchor\":\"y\",\"domain\":[0.0,1.0],\"title\":{\"text\":\"Dropoff Location\",\"font\":{\"size\":18}}},\"yaxis\":{\"anchor\":\"x\",\"domain\":[0.0,1.0],\"title\":{\"text\":\"Average number of Trips\",\"font\":{\"size\":18}}},\"coloraxis\":{\"colorbar\":{\"title\":{\"text\":\"Average number of Trips\"}},\"colorscale\":[[0.0,\"#440154\"],[0.1111111111111111,\"#482878\"],[0.2222222222222222,\"#3e4989\"],[0.3333333333333333,\"#31688e\"],[0.4444444444444444,\"#26828e\"],[0.5555555555555556,\"#1f9e89\"],[0.6666666666666666,\"#35b779\"],[0.7777777777777778,\"#6ece58\"],[0.8888888888888888,\"#b5de2b\"],[1.0,\"#fde725\"]]},\"legend\":{\"tracegroupgap\":0},\"title\":{\"text\":\"Top 10 Neighborhoods by Number of Dropoffs\",\"font\":{\"size\":24},\"y\":0.9,\"x\":0.5,\"xanchor\":\"center\",\"yanchor\":\"top\"},\"barmode\":\"relative\"},                        {\"responsive\": true}                    ).then(function(){\n",
       "                            \n",
       "var gd = document.getElementById('4a2165b5-80e0-4506-9ab5-66617bc9c0e0');\n",
       "var x = new MutationObserver(function (mutations, observer) {{\n",
       "        var display = window.getComputedStyle(gd).display;\n",
       "        if (!display || display === 'none') {{\n",
       "            console.log([gd, 'removed!']);\n",
       "            Plotly.purge(gd);\n",
       "            observer.disconnect();\n",
       "        }}\n",
       "}});\n",
       "\n",
       "// Listen for the removal of the full notebook cells\n",
       "var notebookContainer = gd.closest('#notebook-container');\n",
       "if (notebookContainer) {{\n",
       "    x.observe(notebookContainer, {childList: true});\n",
       "}}\n",
       "\n",
       "// Listen for the clearing of the current output cell\n",
       "var outputEl = gd.closest('.output');\n",
       "if (outputEl) {{\n",
       "    x.observe(outputEl, {childList: true});\n",
       "}}\n",
       "\n",
       "                        })                };                });            </script>        </div>"
      ]
     },
     "metadata": {},
     "output_type": "display_data"
    }
   ],
   "source": [
    "# Create a bar chart using Plotly Express\n",
    "fig = px.bar(\n",
    "    top_10_neighborhoods, \n",
    "    x='dropoff_location_name', \n",
    "    y='average_trips', \n",
    "    title='Top 10 Neighborhoods by Number of Dropoffs', \n",
    "    labels={'dropoff_location_name': 'Dropoff Location', 'average_trips': 'Average number of Trips'},\n",
    "    color='average_trips', \n",
    "    color_continuous_scale='viridis'\n",
    ")\n",
    "\n",
    "# Update the layout to customize titles and their fonts\n",
    "fig.update_layout(\n",
    "    title={\n",
    "        'text': 'Top 10 Neighborhoods by Number of Dropoffs',\n",
    "        'y':0.9,  # Adjusts the title vertical alignment; 0.9 is near the top\n",
    "        'x':0.5,  # Centers the title\n",
    "        'xanchor': 'center',\n",
    "        'yanchor': 'top',\n",
    "        'font': {'size': 24}  # Title font size\n",
    "    },\n",
    "    xaxis={\n",
    "        'title': {\n",
    "            'text': 'Dropoff Location',\n",
    "            'font': {'size': 18}  # X-axis title font size\n",
    "        }\n",
    "    },\n",
    "    yaxis={\n",
    "        'title': {\n",
    "            'text': 'Average number of Trips',\n",
    "            'font': {'size': 18}  # Y-axis title font size\n",
    "        }\n",
    "    }\n",
    ")\n",
    "\n",
    "# Show the plot\n",
    "fig.show()"
   ]
  },
  {
   "cell_type": "markdown",
   "metadata": {},
   "source": [
    "### The Loop neighborhood has the most amount of dropoffs, at 10,727. This is more than double the amount of dropoffs for the neighborhoods ranked 4-10.\n",
    "- In 2nd place, for most amount of dropoffs, is the River North neighborhood, with 9,523 dropoffs."
   ]
  },
  {
   "cell_type": "markdown",
   "metadata": {},
   "source": [
    "## Taxi Companies by Number of Rides"
   ]
  },
  {
   "cell_type": "code",
   "execution_count": 270,
   "metadata": {},
   "outputs": [
    {
     "name": "stdout",
     "output_type": "stream",
     "text": [
      "                        company_name  trips_amount\n",
      "0                          Flash Cab         19558\n",
      "1          Taxi Affiliation Services         11422\n",
      "2                   Medallion Leasin         10367\n",
      "3                         Yellow Cab          9888\n",
      "4    Taxi Affiliation Service Yellow          9299\n",
      "5          Chicago Carriage Cab Corp          9181\n",
      "6                       City Service          8448\n",
      "7                           Sun Taxi          7701\n",
      "8          Star North Management LLC          7455\n",
      "9  Blue Ribbon Taxi Association Inc.          5953\n"
     ]
    }
   ],
   "source": [
    "# Sort the dataFrame by 'average_trips' column in descending order\n",
    "company_trips_sorted = company.sort_values(by='trips_amount', ascending=False)\n",
    "\n",
    "# Select the top 10 neighborhoods\n",
    "company_taxi_rides_total = company_trips_sorted.head(10)\n",
    "\n",
    "# Print the top 10 neighborhoods\n",
    "print(company_taxi_rides_total)"
   ]
  },
  {
   "cell_type": "code",
   "execution_count": 271,
   "metadata": {},
   "outputs": [
    {
     "data": {
      "application/vnd.plotly.v1+json": {
       "config": {
        "plotlyServerURL": "https://plot.ly"
       },
       "data": [
        {
         "alignmentgroup": "True",
         "hovertemplate": "Taxi Company=%{x}<br>Amount of Trips=%{y}<extra></extra>",
         "legendgroup": "Flash Cab",
         "marker": {
          "color": "#636efa",
          "pattern": {
           "shape": ""
          }
         },
         "name": "Flash Cab",
         "offsetgroup": "Flash Cab",
         "orientation": "v",
         "showlegend": true,
         "textposition": "auto",
         "type": "bar",
         "x": [
          "Flash Cab"
         ],
         "xaxis": "x",
         "y": [
          19558
         ],
         "yaxis": "y"
        },
        {
         "alignmentgroup": "True",
         "hovertemplate": "Taxi Company=%{x}<br>Amount of Trips=%{y}<extra></extra>",
         "legendgroup": "Taxi Affiliation Services",
         "marker": {
          "color": "#EF553B",
          "pattern": {
           "shape": ""
          }
         },
         "name": "Taxi Affiliation Services",
         "offsetgroup": "Taxi Affiliation Services",
         "orientation": "v",
         "showlegend": true,
         "textposition": "auto",
         "type": "bar",
         "x": [
          "Taxi Affiliation Services"
         ],
         "xaxis": "x",
         "y": [
          11422
         ],
         "yaxis": "y"
        },
        {
         "alignmentgroup": "True",
         "hovertemplate": "Taxi Company=%{x}<br>Amount of Trips=%{y}<extra></extra>",
         "legendgroup": "Medallion Leasin",
         "marker": {
          "color": "#00cc96",
          "pattern": {
           "shape": ""
          }
         },
         "name": "Medallion Leasin",
         "offsetgroup": "Medallion Leasin",
         "orientation": "v",
         "showlegend": true,
         "textposition": "auto",
         "type": "bar",
         "x": [
          "Medallion Leasin"
         ],
         "xaxis": "x",
         "y": [
          10367
         ],
         "yaxis": "y"
        },
        {
         "alignmentgroup": "True",
         "hovertemplate": "Taxi Company=%{x}<br>Amount of Trips=%{y}<extra></extra>",
         "legendgroup": "Yellow Cab",
         "marker": {
          "color": "#ab63fa",
          "pattern": {
           "shape": ""
          }
         },
         "name": "Yellow Cab",
         "offsetgroup": "Yellow Cab",
         "orientation": "v",
         "showlegend": true,
         "textposition": "auto",
         "type": "bar",
         "x": [
          "Yellow Cab"
         ],
         "xaxis": "x",
         "y": [
          9888
         ],
         "yaxis": "y"
        },
        {
         "alignmentgroup": "True",
         "hovertemplate": "Taxi Company=%{x}<br>Amount of Trips=%{y}<extra></extra>",
         "legendgroup": "Taxi Affiliation Service Yellow",
         "marker": {
          "color": "#FFA15A",
          "pattern": {
           "shape": ""
          }
         },
         "name": "Taxi Affiliation Service Yellow",
         "offsetgroup": "Taxi Affiliation Service Yellow",
         "orientation": "v",
         "showlegend": true,
         "textposition": "auto",
         "type": "bar",
         "x": [
          "Taxi Affiliation Service Yellow"
         ],
         "xaxis": "x",
         "y": [
          9299
         ],
         "yaxis": "y"
        },
        {
         "alignmentgroup": "True",
         "hovertemplate": "Taxi Company=%{x}<br>Amount of Trips=%{y}<extra></extra>",
         "legendgroup": "Chicago Carriage Cab Corp",
         "marker": {
          "color": "#19d3f3",
          "pattern": {
           "shape": ""
          }
         },
         "name": "Chicago Carriage Cab Corp",
         "offsetgroup": "Chicago Carriage Cab Corp",
         "orientation": "v",
         "showlegend": true,
         "textposition": "auto",
         "type": "bar",
         "x": [
          "Chicago Carriage Cab Corp"
         ],
         "xaxis": "x",
         "y": [
          9181
         ],
         "yaxis": "y"
        },
        {
         "alignmentgroup": "True",
         "hovertemplate": "Taxi Company=%{x}<br>Amount of Trips=%{y}<extra></extra>",
         "legendgroup": "City Service",
         "marker": {
          "color": "#FF6692",
          "pattern": {
           "shape": ""
          }
         },
         "name": "City Service",
         "offsetgroup": "City Service",
         "orientation": "v",
         "showlegend": true,
         "textposition": "auto",
         "type": "bar",
         "x": [
          "City Service"
         ],
         "xaxis": "x",
         "y": [
          8448
         ],
         "yaxis": "y"
        },
        {
         "alignmentgroup": "True",
         "hovertemplate": "Taxi Company=%{x}<br>Amount of Trips=%{y}<extra></extra>",
         "legendgroup": "Sun Taxi",
         "marker": {
          "color": "#B6E880",
          "pattern": {
           "shape": ""
          }
         },
         "name": "Sun Taxi",
         "offsetgroup": "Sun Taxi",
         "orientation": "v",
         "showlegend": true,
         "textposition": "auto",
         "type": "bar",
         "x": [
          "Sun Taxi"
         ],
         "xaxis": "x",
         "y": [
          7701
         ],
         "yaxis": "y"
        },
        {
         "alignmentgroup": "True",
         "hovertemplate": "Taxi Company=%{x}<br>Amount of Trips=%{y}<extra></extra>",
         "legendgroup": "Star North Management LLC",
         "marker": {
          "color": "#FF97FF",
          "pattern": {
           "shape": ""
          }
         },
         "name": "Star North Management LLC",
         "offsetgroup": "Star North Management LLC",
         "orientation": "v",
         "showlegend": true,
         "textposition": "auto",
         "type": "bar",
         "x": [
          "Star North Management LLC"
         ],
         "xaxis": "x",
         "y": [
          7455
         ],
         "yaxis": "y"
        },
        {
         "alignmentgroup": "True",
         "hovertemplate": "Taxi Company=%{x}<br>Amount of Trips=%{y}<extra></extra>",
         "legendgroup": "Blue Ribbon Taxi Association Inc.",
         "marker": {
          "color": "#FECB52",
          "pattern": {
           "shape": ""
          }
         },
         "name": "Blue Ribbon Taxi Association Inc.",
         "offsetgroup": "Blue Ribbon Taxi Association Inc.",
         "orientation": "v",
         "showlegend": true,
         "textposition": "auto",
         "type": "bar",
         "x": [
          "Blue Ribbon Taxi Association Inc."
         ],
         "xaxis": "x",
         "y": [
          5953
         ],
         "yaxis": "y"
        }
       ],
       "layout": {
        "barmode": "relative",
        "font": {
         "size": 14
        },
        "height": 700,
        "legend": {
         "font": {
          "size": 14
         },
         "title": {
          "text": "Taxi Companies"
         },
         "tracegroupgap": 0,
         "traceorder": "normal",
         "x": 1,
         "y": 1
        },
        "margin": {
         "b": 100,
         "l": 100,
         "r": 50,
         "t": 100
        },
        "template": {
         "data": {
          "bar": [
           {
            "error_x": {
             "color": "#2a3f5f"
            },
            "error_y": {
             "color": "#2a3f5f"
            },
            "marker": {
             "line": {
              "color": "#E5ECF6",
              "width": 0.5
             },
             "pattern": {
              "fillmode": "overlay",
              "size": 10,
              "solidity": 0.2
             }
            },
            "type": "bar"
           }
          ],
          "barpolar": [
           {
            "marker": {
             "line": {
              "color": "#E5ECF6",
              "width": 0.5
             },
             "pattern": {
              "fillmode": "overlay",
              "size": 10,
              "solidity": 0.2
             }
            },
            "type": "barpolar"
           }
          ],
          "carpet": [
           {
            "aaxis": {
             "endlinecolor": "#2a3f5f",
             "gridcolor": "white",
             "linecolor": "white",
             "minorgridcolor": "white",
             "startlinecolor": "#2a3f5f"
            },
            "baxis": {
             "endlinecolor": "#2a3f5f",
             "gridcolor": "white",
             "linecolor": "white",
             "minorgridcolor": "white",
             "startlinecolor": "#2a3f5f"
            },
            "type": "carpet"
           }
          ],
          "choropleth": [
           {
            "colorbar": {
             "outlinewidth": 0,
             "ticks": ""
            },
            "type": "choropleth"
           }
          ],
          "contour": [
           {
            "colorbar": {
             "outlinewidth": 0,
             "ticks": ""
            },
            "colorscale": [
             [
              0,
              "#0d0887"
             ],
             [
              0.1111111111111111,
              "#46039f"
             ],
             [
              0.2222222222222222,
              "#7201a8"
             ],
             [
              0.3333333333333333,
              "#9c179e"
             ],
             [
              0.4444444444444444,
              "#bd3786"
             ],
             [
              0.5555555555555556,
              "#d8576b"
             ],
             [
              0.6666666666666666,
              "#ed7953"
             ],
             [
              0.7777777777777778,
              "#fb9f3a"
             ],
             [
              0.8888888888888888,
              "#fdca26"
             ],
             [
              1,
              "#f0f921"
             ]
            ],
            "type": "contour"
           }
          ],
          "contourcarpet": [
           {
            "colorbar": {
             "outlinewidth": 0,
             "ticks": ""
            },
            "type": "contourcarpet"
           }
          ],
          "heatmap": [
           {
            "colorbar": {
             "outlinewidth": 0,
             "ticks": ""
            },
            "colorscale": [
             [
              0,
              "#0d0887"
             ],
             [
              0.1111111111111111,
              "#46039f"
             ],
             [
              0.2222222222222222,
              "#7201a8"
             ],
             [
              0.3333333333333333,
              "#9c179e"
             ],
             [
              0.4444444444444444,
              "#bd3786"
             ],
             [
              0.5555555555555556,
              "#d8576b"
             ],
             [
              0.6666666666666666,
              "#ed7953"
             ],
             [
              0.7777777777777778,
              "#fb9f3a"
             ],
             [
              0.8888888888888888,
              "#fdca26"
             ],
             [
              1,
              "#f0f921"
             ]
            ],
            "type": "heatmap"
           }
          ],
          "heatmapgl": [
           {
            "colorbar": {
             "outlinewidth": 0,
             "ticks": ""
            },
            "colorscale": [
             [
              0,
              "#0d0887"
             ],
             [
              0.1111111111111111,
              "#46039f"
             ],
             [
              0.2222222222222222,
              "#7201a8"
             ],
             [
              0.3333333333333333,
              "#9c179e"
             ],
             [
              0.4444444444444444,
              "#bd3786"
             ],
             [
              0.5555555555555556,
              "#d8576b"
             ],
             [
              0.6666666666666666,
              "#ed7953"
             ],
             [
              0.7777777777777778,
              "#fb9f3a"
             ],
             [
              0.8888888888888888,
              "#fdca26"
             ],
             [
              1,
              "#f0f921"
             ]
            ],
            "type": "heatmapgl"
           }
          ],
          "histogram": [
           {
            "marker": {
             "pattern": {
              "fillmode": "overlay",
              "size": 10,
              "solidity": 0.2
             }
            },
            "type": "histogram"
           }
          ],
          "histogram2d": [
           {
            "colorbar": {
             "outlinewidth": 0,
             "ticks": ""
            },
            "colorscale": [
             [
              0,
              "#0d0887"
             ],
             [
              0.1111111111111111,
              "#46039f"
             ],
             [
              0.2222222222222222,
              "#7201a8"
             ],
             [
              0.3333333333333333,
              "#9c179e"
             ],
             [
              0.4444444444444444,
              "#bd3786"
             ],
             [
              0.5555555555555556,
              "#d8576b"
             ],
             [
              0.6666666666666666,
              "#ed7953"
             ],
             [
              0.7777777777777778,
              "#fb9f3a"
             ],
             [
              0.8888888888888888,
              "#fdca26"
             ],
             [
              1,
              "#f0f921"
             ]
            ],
            "type": "histogram2d"
           }
          ],
          "histogram2dcontour": [
           {
            "colorbar": {
             "outlinewidth": 0,
             "ticks": ""
            },
            "colorscale": [
             [
              0,
              "#0d0887"
             ],
             [
              0.1111111111111111,
              "#46039f"
             ],
             [
              0.2222222222222222,
              "#7201a8"
             ],
             [
              0.3333333333333333,
              "#9c179e"
             ],
             [
              0.4444444444444444,
              "#bd3786"
             ],
             [
              0.5555555555555556,
              "#d8576b"
             ],
             [
              0.6666666666666666,
              "#ed7953"
             ],
             [
              0.7777777777777778,
              "#fb9f3a"
             ],
             [
              0.8888888888888888,
              "#fdca26"
             ],
             [
              1,
              "#f0f921"
             ]
            ],
            "type": "histogram2dcontour"
           }
          ],
          "mesh3d": [
           {
            "colorbar": {
             "outlinewidth": 0,
             "ticks": ""
            },
            "type": "mesh3d"
           }
          ],
          "parcoords": [
           {
            "line": {
             "colorbar": {
              "outlinewidth": 0,
              "ticks": ""
             }
            },
            "type": "parcoords"
           }
          ],
          "pie": [
           {
            "automargin": true,
            "type": "pie"
           }
          ],
          "scatter": [
           {
            "fillpattern": {
             "fillmode": "overlay",
             "size": 10,
             "solidity": 0.2
            },
            "type": "scatter"
           }
          ],
          "scatter3d": [
           {
            "line": {
             "colorbar": {
              "outlinewidth": 0,
              "ticks": ""
             }
            },
            "marker": {
             "colorbar": {
              "outlinewidth": 0,
              "ticks": ""
             }
            },
            "type": "scatter3d"
           }
          ],
          "scattercarpet": [
           {
            "marker": {
             "colorbar": {
              "outlinewidth": 0,
              "ticks": ""
             }
            },
            "type": "scattercarpet"
           }
          ],
          "scattergeo": [
           {
            "marker": {
             "colorbar": {
              "outlinewidth": 0,
              "ticks": ""
             }
            },
            "type": "scattergeo"
           }
          ],
          "scattergl": [
           {
            "marker": {
             "colorbar": {
              "outlinewidth": 0,
              "ticks": ""
             }
            },
            "type": "scattergl"
           }
          ],
          "scattermapbox": [
           {
            "marker": {
             "colorbar": {
              "outlinewidth": 0,
              "ticks": ""
             }
            },
            "type": "scattermapbox"
           }
          ],
          "scatterpolar": [
           {
            "marker": {
             "colorbar": {
              "outlinewidth": 0,
              "ticks": ""
             }
            },
            "type": "scatterpolar"
           }
          ],
          "scatterpolargl": [
           {
            "marker": {
             "colorbar": {
              "outlinewidth": 0,
              "ticks": ""
             }
            },
            "type": "scatterpolargl"
           }
          ],
          "scatterternary": [
           {
            "marker": {
             "colorbar": {
              "outlinewidth": 0,
              "ticks": ""
             }
            },
            "type": "scatterternary"
           }
          ],
          "surface": [
           {
            "colorbar": {
             "outlinewidth": 0,
             "ticks": ""
            },
            "colorscale": [
             [
              0,
              "#0d0887"
             ],
             [
              0.1111111111111111,
              "#46039f"
             ],
             [
              0.2222222222222222,
              "#7201a8"
             ],
             [
              0.3333333333333333,
              "#9c179e"
             ],
             [
              0.4444444444444444,
              "#bd3786"
             ],
             [
              0.5555555555555556,
              "#d8576b"
             ],
             [
              0.6666666666666666,
              "#ed7953"
             ],
             [
              0.7777777777777778,
              "#fb9f3a"
             ],
             [
              0.8888888888888888,
              "#fdca26"
             ],
             [
              1,
              "#f0f921"
             ]
            ],
            "type": "surface"
           }
          ],
          "table": [
           {
            "cells": {
             "fill": {
              "color": "#EBF0F8"
             },
             "line": {
              "color": "white"
             }
            },
            "header": {
             "fill": {
              "color": "#C8D4E3"
             },
             "line": {
              "color": "white"
             }
            },
            "type": "table"
           }
          ]
         },
         "layout": {
          "annotationdefaults": {
           "arrowcolor": "#2a3f5f",
           "arrowhead": 0,
           "arrowwidth": 1
          },
          "autotypenumbers": "strict",
          "coloraxis": {
           "colorbar": {
            "outlinewidth": 0,
            "ticks": ""
           }
          },
          "colorscale": {
           "diverging": [
            [
             0,
             "#8e0152"
            ],
            [
             0.1,
             "#c51b7d"
            ],
            [
             0.2,
             "#de77ae"
            ],
            [
             0.3,
             "#f1b6da"
            ],
            [
             0.4,
             "#fde0ef"
            ],
            [
             0.5,
             "#f7f7f7"
            ],
            [
             0.6,
             "#e6f5d0"
            ],
            [
             0.7,
             "#b8e186"
            ],
            [
             0.8,
             "#7fbc41"
            ],
            [
             0.9,
             "#4d9221"
            ],
            [
             1,
             "#276419"
            ]
           ],
           "sequential": [
            [
             0,
             "#0d0887"
            ],
            [
             0.1111111111111111,
             "#46039f"
            ],
            [
             0.2222222222222222,
             "#7201a8"
            ],
            [
             0.3333333333333333,
             "#9c179e"
            ],
            [
             0.4444444444444444,
             "#bd3786"
            ],
            [
             0.5555555555555556,
             "#d8576b"
            ],
            [
             0.6666666666666666,
             "#ed7953"
            ],
            [
             0.7777777777777778,
             "#fb9f3a"
            ],
            [
             0.8888888888888888,
             "#fdca26"
            ],
            [
             1,
             "#f0f921"
            ]
           ],
           "sequentialminus": [
            [
             0,
             "#0d0887"
            ],
            [
             0.1111111111111111,
             "#46039f"
            ],
            [
             0.2222222222222222,
             "#7201a8"
            ],
            [
             0.3333333333333333,
             "#9c179e"
            ],
            [
             0.4444444444444444,
             "#bd3786"
            ],
            [
             0.5555555555555556,
             "#d8576b"
            ],
            [
             0.6666666666666666,
             "#ed7953"
            ],
            [
             0.7777777777777778,
             "#fb9f3a"
            ],
            [
             0.8888888888888888,
             "#fdca26"
            ],
            [
             1,
             "#f0f921"
            ]
           ]
          },
          "colorway": [
           "#636efa",
           "#EF553B",
           "#00cc96",
           "#ab63fa",
           "#FFA15A",
           "#19d3f3",
           "#FF6692",
           "#B6E880",
           "#FF97FF",
           "#FECB52"
          ],
          "font": {
           "color": "#2a3f5f"
          },
          "geo": {
           "bgcolor": "white",
           "lakecolor": "white",
           "landcolor": "#E5ECF6",
           "showlakes": true,
           "showland": true,
           "subunitcolor": "white"
          },
          "hoverlabel": {
           "align": "left"
          },
          "hovermode": "closest",
          "mapbox": {
           "style": "light"
          },
          "paper_bgcolor": "white",
          "plot_bgcolor": "#E5ECF6",
          "polar": {
           "angularaxis": {
            "gridcolor": "white",
            "linecolor": "white",
            "ticks": ""
           },
           "bgcolor": "#E5ECF6",
           "radialaxis": {
            "gridcolor": "white",
            "linecolor": "white",
            "ticks": ""
           }
          },
          "scene": {
           "xaxis": {
            "backgroundcolor": "#E5ECF6",
            "gridcolor": "white",
            "gridwidth": 2,
            "linecolor": "white",
            "showbackground": true,
            "ticks": "",
            "zerolinecolor": "white"
           },
           "yaxis": {
            "backgroundcolor": "#E5ECF6",
            "gridcolor": "white",
            "gridwidth": 2,
            "linecolor": "white",
            "showbackground": true,
            "ticks": "",
            "zerolinecolor": "white"
           },
           "zaxis": {
            "backgroundcolor": "#E5ECF6",
            "gridcolor": "white",
            "gridwidth": 2,
            "linecolor": "white",
            "showbackground": true,
            "ticks": "",
            "zerolinecolor": "white"
           }
          },
          "shapedefaults": {
           "line": {
            "color": "#2a3f5f"
           }
          },
          "ternary": {
           "aaxis": {
            "gridcolor": "white",
            "linecolor": "white",
            "ticks": ""
           },
           "baxis": {
            "gridcolor": "white",
            "linecolor": "white",
            "ticks": ""
           },
           "bgcolor": "#E5ECF6",
           "caxis": {
            "gridcolor": "white",
            "linecolor": "white",
            "ticks": ""
           }
          },
          "title": {
           "x": 0.05
          },
          "xaxis": {
           "automargin": true,
           "gridcolor": "white",
           "linecolor": "white",
           "ticks": "",
           "title": {
            "standoff": 15
           },
           "zerolinecolor": "white",
           "zerolinewidth": 2
          },
          "yaxis": {
           "automargin": true,
           "gridcolor": "white",
           "linecolor": "white",
           "ticks": "",
           "title": {
            "standoff": 15
           },
           "zerolinecolor": "white",
           "zerolinewidth": 2
          }
         }
        },
        "title": {
         "font": {
          "size": 24
         },
         "text": "Taxi Companies by Number of Rides",
         "x": 0.5,
         "xanchor": "center",
         "y": 0.9,
         "yanchor": "top"
        },
        "width": 1140,
        "xaxis": {
         "anchor": "y",
         "autorange": true,
         "categoryarray": [
          "Flash Cab",
          "Taxi Affiliation Services",
          "Medallion Leasin",
          "Yellow Cab",
          "Taxi Affiliation Service Yellow",
          "Chicago Carriage Cab Corp",
          "City Service",
          "Sun Taxi",
          "Star North Management LLC",
          "Blue Ribbon Taxi Association Inc."
         ],
         "categoryorder": "array",
         "domain": [
          0,
          1
         ],
         "range": [
          -0.5,
          9.5
         ],
         "tickangle": 45,
         "title": {
          "font": {
           "size": 18
          },
          "text": "Taxi Company"
         },
         "type": "category"
        },
        "yaxis": {
         "anchor": "x",
         "autorange": true,
         "domain": [
          0,
          1
         ],
         "range": [
          0,
          20587.368421052633
         ],
         "title": {
          "font": {
           "size": 18
          },
          "text": "Amount of Trips"
         },
         "type": "linear"
        }
       }
      },
      "image/png": "[encoded data removed]",
      "text/html": [
       "<div>                            <div id=\"9729e524-11e7-49b8-b380-4b3ce4ee89a3\" class=\"plotly-graph-div\" style=\"height:700px; width:1140px;\"></div>            <script type=\"text/javascript\">                require([\"plotly\"], function(Plotly) {                    window.PLOTLYENV=window.PLOTLYENV || {};                                    if (document.getElementById(\"9729e524-11e7-49b8-b380-4b3ce4ee89a3\")) {                    Plotly.newPlot(                        \"9729e524-11e7-49b8-b380-4b3ce4ee89a3\",                        [{\"alignmentgroup\":\"True\",\"hovertemplate\":\"Taxi Company=%{x}\\u003cbr\\u003eAmount of Trips=%{y}\\u003cextra\\u003e\\u003c\\u002fextra\\u003e\",\"legendgroup\":\"Flash Cab\",\"marker\":{\"color\":\"#636efa\",\"pattern\":{\"shape\":\"\"}},\"name\":\"Flash Cab\",\"offsetgroup\":\"Flash Cab\",\"orientation\":\"v\",\"showlegend\":true,\"textposition\":\"auto\",\"x\":[\"Flash Cab\"],\"xaxis\":\"x\",\"y\":[19558],\"yaxis\":\"y\",\"type\":\"bar\"},{\"alignmentgroup\":\"True\",\"hovertemplate\":\"Taxi Company=%{x}\\u003cbr\\u003eAmount of Trips=%{y}\\u003cextra\\u003e\\u003c\\u002fextra\\u003e\",\"legendgroup\":\"Taxi Affiliation Services\",\"marker\":{\"color\":\"#EF553B\",\"pattern\":{\"shape\":\"\"}},\"name\":\"Taxi Affiliation Services\",\"offsetgroup\":\"Taxi Affiliation Services\",\"orientation\":\"v\",\"showlegend\":true,\"textposition\":\"auto\",\"x\":[\"Taxi Affiliation Services\"],\"xaxis\":\"x\",\"y\":[11422],\"yaxis\":\"y\",\"type\":\"bar\"},{\"alignmentgroup\":\"True\",\"hovertemplate\":\"Taxi Company=%{x}\\u003cbr\\u003eAmount of Trips=%{y}\\u003cextra\\u003e\\u003c\\u002fextra\\u003e\",\"legendgroup\":\"Medallion Leasin\",\"marker\":{\"color\":\"#00cc96\",\"pattern\":{\"shape\":\"\"}},\"name\":\"Medallion Leasin\",\"offsetgroup\":\"Medallion Leasin\",\"orientation\":\"v\",\"showlegend\":true,\"textposition\":\"auto\",\"x\":[\"Medallion Leasin\"],\"xaxis\":\"x\",\"y\":[10367],\"yaxis\":\"y\",\"type\":\"bar\"},{\"alignmentgroup\":\"True\",\"hovertemplate\":\"Taxi Company=%{x}\\u003cbr\\u003eAmount of Trips=%{y}\\u003cextra\\u003e\\u003c\\u002fextra\\u003e\",\"legendgroup\":\"Yellow Cab\",\"marker\":{\"color\":\"#ab63fa\",\"pattern\":{\"shape\":\"\"}},\"name\":\"Yellow Cab\",\"offsetgroup\":\"Yellow Cab\",\"orientation\":\"v\",\"showlegend\":true,\"textposition\":\"auto\",\"x\":[\"Yellow Cab\"],\"xaxis\":\"x\",\"y\":[9888],\"yaxis\":\"y\",\"type\":\"bar\"},{\"alignmentgroup\":\"True\",\"hovertemplate\":\"Taxi Company=%{x}\\u003cbr\\u003eAmount of Trips=%{y}\\u003cextra\\u003e\\u003c\\u002fextra\\u003e\",\"legendgroup\":\"Taxi Affiliation Service Yellow\",\"marker\":{\"color\":\"#FFA15A\",\"pattern\":{\"shape\":\"\"}},\"name\":\"Taxi Affiliation Service Yellow\",\"offsetgroup\":\"Taxi Affiliation Service Yellow\",\"orientation\":\"v\",\"showlegend\":true,\"textposition\":\"auto\",\"x\":[\"Taxi Affiliation Service Yellow\"],\"xaxis\":\"x\",\"y\":[9299],\"yaxis\":\"y\",\"type\":\"bar\"},{\"alignmentgroup\":\"True\",\"hovertemplate\":\"Taxi Company=%{x}\\u003cbr\\u003eAmount of Trips=%{y}\\u003cextra\\u003e\\u003c\\u002fextra\\u003e\",\"legendgroup\":\"Chicago Carriage Cab Corp\",\"marker\":{\"color\":\"#19d3f3\",\"pattern\":{\"shape\":\"\"}},\"name\":\"Chicago Carriage Cab Corp\",\"offsetgroup\":\"Chicago Carriage Cab Corp\",\"orientation\":\"v\",\"showlegend\":true,\"textposition\":\"auto\",\"x\":[\"Chicago Carriage Cab Corp\"],\"xaxis\":\"x\",\"y\":[9181],\"yaxis\":\"y\",\"type\":\"bar\"},{\"alignmentgroup\":\"True\",\"hovertemplate\":\"Taxi Company=%{x}\\u003cbr\\u003eAmount of Trips=%{y}\\u003cextra\\u003e\\u003c\\u002fextra\\u003e\",\"legendgroup\":\"City Service\",\"marker\":{\"color\":\"#FF6692\",\"pattern\":{\"shape\":\"\"}},\"name\":\"City Service\",\"offsetgroup\":\"City Service\",\"orientation\":\"v\",\"showlegend\":true,\"textposition\":\"auto\",\"x\":[\"City Service\"],\"xaxis\":\"x\",\"y\":[8448],\"yaxis\":\"y\",\"type\":\"bar\"},{\"alignmentgroup\":\"True\",\"hovertemplate\":\"Taxi Company=%{x}\\u003cbr\\u003eAmount of Trips=%{y}\\u003cextra\\u003e\\u003c\\u002fextra\\u003e\",\"legendgroup\":\"Sun Taxi\",\"marker\":{\"color\":\"#B6E880\",\"pattern\":{\"shape\":\"\"}},\"name\":\"Sun Taxi\",\"offsetgroup\":\"Sun Taxi\",\"orientation\":\"v\",\"showlegend\":true,\"textposition\":\"auto\",\"x\":[\"Sun Taxi\"],\"xaxis\":\"x\",\"y\":[7701],\"yaxis\":\"y\",\"type\":\"bar\"},{\"alignmentgroup\":\"True\",\"hovertemplate\":\"Taxi Company=%{x}\\u003cbr\\u003eAmount of Trips=%{y}\\u003cextra\\u003e\\u003c\\u002fextra\\u003e\",\"legendgroup\":\"Star North Management LLC\",\"marker\":{\"color\":\"#FF97FF\",\"pattern\":{\"shape\":\"\"}},\"name\":\"Star North Management LLC\",\"offsetgroup\":\"Star North Management LLC\",\"orientation\":\"v\",\"showlegend\":true,\"textposition\":\"auto\",\"x\":[\"Star North Management LLC\"],\"xaxis\":\"x\",\"y\":[7455],\"yaxis\":\"y\",\"type\":\"bar\"},{\"alignmentgroup\":\"True\",\"hovertemplate\":\"Taxi Company=%{x}\\u003cbr\\u003eAmount of Trips=%{y}\\u003cextra\\u003e\\u003c\\u002fextra\\u003e\",\"legendgroup\":\"Blue Ribbon Taxi Association Inc.\",\"marker\":{\"color\":\"#FECB52\",\"pattern\":{\"shape\":\"\"}},\"name\":\"Blue Ribbon Taxi Association Inc.\",\"offsetgroup\":\"Blue Ribbon Taxi Association Inc.\",\"orientation\":\"v\",\"showlegend\":true,\"textposition\":\"auto\",\"x\":[\"Blue Ribbon Taxi Association Inc.\"],\"xaxis\":\"x\",\"y\":[5953],\"yaxis\":\"y\",\"type\":\"bar\"}],                        {\"template\":{\"data\":{\"histogram2dcontour\":[{\"type\":\"histogram2dcontour\",\"colorbar\":{\"outlinewidth\":0,\"ticks\":\"\"},\"colorscale\":[[0.0,\"#0d0887\"],[0.1111111111111111,\"#46039f\"],[0.2222222222222222,\"#7201a8\"],[0.3333333333333333,\"#9c179e\"],[0.4444444444444444,\"#bd3786\"],[0.5555555555555556,\"#d8576b\"],[0.6666666666666666,\"#ed7953\"],[0.7777777777777778,\"#fb9f3a\"],[0.8888888888888888,\"#fdca26\"],[1.0,\"#f0f921\"]]}],\"choropleth\":[{\"type\":\"choropleth\",\"colorbar\":{\"outlinewidth\":0,\"ticks\":\"\"}}],\"histogram2d\":[{\"type\":\"histogram2d\",\"colorbar\":{\"outlinewidth\":0,\"ticks\":\"\"},\"colorscale\":[[0.0,\"#0d0887\"],[0.1111111111111111,\"#46039f\"],[0.2222222222222222,\"#7201a8\"],[0.3333333333333333,\"#9c179e\"],[0.4444444444444444,\"#bd3786\"],[0.5555555555555556,\"#d8576b\"],[0.6666666666666666,\"#ed7953\"],[0.7777777777777778,\"#fb9f3a\"],[0.8888888888888888,\"#fdca26\"],[1.0,\"#f0f921\"]]}],\"heatmap\":[{\"type\":\"heatmap\",\"colorbar\":{\"outlinewidth\":0,\"ticks\":\"\"},\"colorscale\":[[0.0,\"#0d0887\"],[0.1111111111111111,\"#46039f\"],[0.2222222222222222,\"#7201a8\"],[0.3333333333333333,\"#9c179e\"],[0.4444444444444444,\"#bd3786\"],[0.5555555555555556,\"#d8576b\"],[0.6666666666666666,\"#ed7953\"],[0.7777777777777778,\"#fb9f3a\"],[0.8888888888888888,\"#fdca26\"],[1.0,\"#f0f921\"]]}],\"heatmapgl\":[{\"type\":\"heatmapgl\",\"colorbar\":{\"outlinewidth\":0,\"ticks\":\"\"},\"colorscale\":[[0.0,\"#0d0887\"],[0.1111111111111111,\"#46039f\"],[0.2222222222222222,\"#7201a8\"],[0.3333333333333333,\"#9c179e\"],[0.4444444444444444,\"#bd3786\"],[0.5555555555555556,\"#d8576b\"],[0.6666666666666666,\"#ed7953\"],[0.7777777777777778,\"#fb9f3a\"],[0.8888888888888888,\"#fdca26\"],[1.0,\"#f0f921\"]]}],\"contourcarpet\":[{\"type\":\"contourcarpet\",\"colorbar\":{\"outlinewidth\":0,\"ticks\":\"\"}}],\"contour\":[{\"type\":\"contour\",\"colorbar\":{\"outlinewidth\":0,\"ticks\":\"\"},\"colorscale\":[[0.0,\"#0d0887\"],[0.1111111111111111,\"#46039f\"],[0.2222222222222222,\"#7201a8\"],[0.3333333333333333,\"#9c179e\"],[0.4444444444444444,\"#bd3786\"],[0.5555555555555556,\"#d8576b\"],[0.6666666666666666,\"#ed7953\"],[0.7777777777777778,\"#fb9f3a\"],[0.8888888888888888,\"#fdca26\"],[1.0,\"#f0f921\"]]}],\"surface\":[{\"type\":\"surface\",\"colorbar\":{\"outlinewidth\":0,\"ticks\":\"\"},\"colorscale\":[[0.0,\"#0d0887\"],[0.1111111111111111,\"#46039f\"],[0.2222222222222222,\"#7201a8\"],[0.3333333333333333,\"#9c179e\"],[0.4444444444444444,\"#bd3786\"],[0.5555555555555556,\"#d8576b\"],[0.6666666666666666,\"#ed7953\"],[0.7777777777777778,\"#fb9f3a\"],[0.8888888888888888,\"#fdca26\"],[1.0,\"#f0f921\"]]}],\"mesh3d\":[{\"type\":\"mesh3d\",\"colorbar\":{\"outlinewidth\":0,\"ticks\":\"\"}}],\"scatter\":[{\"fillpattern\":{\"fillmode\":\"overlay\",\"size\":10,\"solidity\":0.2},\"type\":\"scatter\"}],\"parcoords\":[{\"type\":\"parcoords\",\"line\":{\"colorbar\":{\"outlinewidth\":0,\"ticks\":\"\"}}}],\"scatterpolargl\":[{\"type\":\"scatterpolargl\",\"marker\":{\"colorbar\":{\"outlinewidth\":0,\"ticks\":\"\"}}}],\"bar\":[{\"error_x\":{\"color\":\"#2a3f5f\"},\"error_y\":{\"color\":\"#2a3f5f\"},\"marker\":{\"line\":{\"color\":\"#E5ECF6\",\"width\":0.5},\"pattern\":{\"fillmode\":\"overlay\",\"size\":10,\"solidity\":0.2}},\"type\":\"bar\"}],\"scattergeo\":[{\"type\":\"scattergeo\",\"marker\":{\"colorbar\":{\"outlinewidth\":0,\"ticks\":\"\"}}}],\"scatterpolar\":[{\"type\":\"scatterpolar\",\"marker\":{\"colorbar\":{\"outlinewidth\":0,\"ticks\":\"\"}}}],\"histogram\":[{\"marker\":{\"pattern\":{\"fillmode\":\"overlay\",\"size\":10,\"solidity\":0.2}},\"type\":\"histogram\"}],\"scattergl\":[{\"type\":\"scattergl\",\"marker\":{\"colorbar\":{\"outlinewidth\":0,\"ticks\":\"\"}}}],\"scatter3d\":[{\"type\":\"scatter3d\",\"line\":{\"colorbar\":{\"outlinewidth\":0,\"ticks\":\"\"}},\"marker\":{\"colorbar\":{\"outlinewidth\":0,\"ticks\":\"\"}}}],\"scattermapbox\":[{\"type\":\"scattermapbox\",\"marker\":{\"colorbar\":{\"outlinewidth\":0,\"ticks\":\"\"}}}],\"scatterternary\":[{\"type\":\"scatterternary\",\"marker\":{\"colorbar\":{\"outlinewidth\":0,\"ticks\":\"\"}}}],\"scattercarpet\":[{\"type\":\"scattercarpet\",\"marker\":{\"colorbar\":{\"outlinewidth\":0,\"ticks\":\"\"}}}],\"carpet\":[{\"aaxis\":{\"endlinecolor\":\"#2a3f5f\",\"gridcolor\":\"white\",\"linecolor\":\"white\",\"minorgridcolor\":\"white\",\"startlinecolor\":\"#2a3f5f\"},\"baxis\":{\"endlinecolor\":\"#2a3f5f\",\"gridcolor\":\"white\",\"linecolor\":\"white\",\"minorgridcolor\":\"white\",\"startlinecolor\":\"#2a3f5f\"},\"type\":\"carpet\"}],\"table\":[{\"cells\":{\"fill\":{\"color\":\"#EBF0F8\"},\"line\":{\"color\":\"white\"}},\"header\":{\"fill\":{\"color\":\"#C8D4E3\"},\"line\":{\"color\":\"white\"}},\"type\":\"table\"}],\"barpolar\":[{\"marker\":{\"line\":{\"color\":\"#E5ECF6\",\"width\":0.5},\"pattern\":{\"fillmode\":\"overlay\",\"size\":10,\"solidity\":0.2}},\"type\":\"barpolar\"}],\"pie\":[{\"automargin\":true,\"type\":\"pie\"}]},\"layout\":{\"autotypenumbers\":\"strict\",\"colorway\":[\"#636efa\",\"#EF553B\",\"#00cc96\",\"#ab63fa\",\"#FFA15A\",\"#19d3f3\",\"#FF6692\",\"#B6E880\",\"#FF97FF\",\"#FECB52\"],\"font\":{\"color\":\"#2a3f5f\"},\"hovermode\":\"closest\",\"hoverlabel\":{\"align\":\"left\"},\"paper_bgcolor\":\"white\",\"plot_bgcolor\":\"#E5ECF6\",\"polar\":{\"bgcolor\":\"#E5ECF6\",\"angularaxis\":{\"gridcolor\":\"white\",\"linecolor\":\"white\",\"ticks\":\"\"},\"radialaxis\":{\"gridcolor\":\"white\",\"linecolor\":\"white\",\"ticks\":\"\"}},\"ternary\":{\"bgcolor\":\"#E5ECF6\",\"aaxis\":{\"gridcolor\":\"white\",\"linecolor\":\"white\",\"ticks\":\"\"},\"baxis\":{\"gridcolor\":\"white\",\"linecolor\":\"white\",\"ticks\":\"\"},\"caxis\":{\"gridcolor\":\"white\",\"linecolor\":\"white\",\"ticks\":\"\"}},\"coloraxis\":{\"colorbar\":{\"outlinewidth\":0,\"ticks\":\"\"}},\"colorscale\":{\"sequential\":[[0.0,\"#0d0887\"],[0.1111111111111111,\"#46039f\"],[0.2222222222222222,\"#7201a8\"],[0.3333333333333333,\"#9c179e\"],[0.4444444444444444,\"#bd3786\"],[0.5555555555555556,\"#d8576b\"],[0.6666666666666666,\"#ed7953\"],[0.7777777777777778,\"#fb9f3a\"],[0.8888888888888888,\"#fdca26\"],[1.0,\"#f0f921\"]],\"sequentialminus\":[[0.0,\"#0d0887\"],[0.1111111111111111,\"#46039f\"],[0.2222222222222222,\"#7201a8\"],[0.3333333333333333,\"#9c179e\"],[0.4444444444444444,\"#bd3786\"],[0.5555555555555556,\"#d8576b\"],[0.6666666666666666,\"#ed7953\"],[0.7777777777777778,\"#fb9f3a\"],[0.8888888888888888,\"#fdca26\"],[1.0,\"#f0f921\"]],\"diverging\":[[0,\"#8e0152\"],[0.1,\"#c51b7d\"],[0.2,\"#de77ae\"],[0.3,\"#f1b6da\"],[0.4,\"#fde0ef\"],[0.5,\"#f7f7f7\"],[0.6,\"#e6f5d0\"],[0.7,\"#b8e186\"],[0.8,\"#7fbc41\"],[0.9,\"#4d9221\"],[1,\"#276419\"]]},\"xaxis\":{\"gridcolor\":\"white\",\"linecolor\":\"white\",\"ticks\":\"\",\"title\":{\"standoff\":15},\"zerolinecolor\":\"white\",\"automargin\":true,\"zerolinewidth\":2},\"yaxis\":{\"gridcolor\":\"white\",\"linecolor\":\"white\",\"ticks\":\"\",\"title\":{\"standoff\":15},\"zerolinecolor\":\"white\",\"automargin\":true,\"zerolinewidth\":2},\"scene\":{\"xaxis\":{\"backgroundcolor\":\"#E5ECF6\",\"gridcolor\":\"white\",\"linecolor\":\"white\",\"showbackground\":true,\"ticks\":\"\",\"zerolinecolor\":\"white\",\"gridwidth\":2},\"yaxis\":{\"backgroundcolor\":\"#E5ECF6\",\"gridcolor\":\"white\",\"linecolor\":\"white\",\"showbackground\":true,\"ticks\":\"\",\"zerolinecolor\":\"white\",\"gridwidth\":2},\"zaxis\":{\"backgroundcolor\":\"#E5ECF6\",\"gridcolor\":\"white\",\"linecolor\":\"white\",\"showbackground\":true,\"ticks\":\"\",\"zerolinecolor\":\"white\",\"gridwidth\":2}},\"shapedefaults\":{\"line\":{\"color\":\"#2a3f5f\"}},\"annotationdefaults\":{\"arrowcolor\":\"#2a3f5f\",\"arrowhead\":0,\"arrowwidth\":1},\"geo\":{\"bgcolor\":\"white\",\"landcolor\":\"#E5ECF6\",\"subunitcolor\":\"white\",\"showland\":true,\"showlakes\":true,\"lakecolor\":\"white\"},\"title\":{\"x\":0.05},\"mapbox\":{\"style\":\"light\"}}},\"xaxis\":{\"anchor\":\"y\",\"domain\":[0.0,1.0],\"title\":{\"text\":\"Taxi Company\",\"font\":{\"size\":18}},\"categoryorder\":\"array\",\"categoryarray\":[\"Flash Cab\",\"Taxi Affiliation Services\",\"Medallion Leasin\",\"Yellow Cab\",\"Taxi Affiliation Service Yellow\",\"Chicago Carriage Cab Corp\",\"City Service\",\"Sun Taxi\",\"Star North Management LLC\",\"Blue Ribbon Taxi Association Inc.\"],\"tickangle\":45},\"yaxis\":{\"anchor\":\"x\",\"domain\":[0.0,1.0],\"title\":{\"text\":\"Amount of Trips\",\"font\":{\"size\":18}}},\"legend\":{\"title\":{\"text\":\"Taxi Companies\"},\"tracegroupgap\":0,\"font\":{\"size\":14},\"x\":1,\"y\":1,\"traceorder\":\"normal\"},\"title\":{\"text\":\"Taxi Companies by Number of Rides\",\"font\":{\"size\":24},\"y\":0.9,\"x\":0.5,\"xanchor\":\"center\",\"yanchor\":\"top\"},\"barmode\":\"relative\",\"font\":{\"size\":14},\"margin\":{\"l\":100,\"r\":50,\"b\":100,\"t\":100},\"width\":1140,\"height\":700},                        {\"responsive\": true}                    ).then(function(){\n",
       "                            \n",
       "var gd = document.getElementById('9729e524-11e7-49b8-b380-4b3ce4ee89a3');\n",
       "var x = new MutationObserver(function (mutations, observer) {{\n",
       "        var display = window.getComputedStyle(gd).display;\n",
       "        if (!display || display === 'none') {{\n",
       "            console.log([gd, 'removed!']);\n",
       "            Plotly.purge(gd);\n",
       "            observer.disconnect();\n",
       "        }}\n",
       "}});\n",
       "\n",
       "// Listen for the removal of the full notebook cells\n",
       "var notebookContainer = gd.closest('#notebook-container');\n",
       "if (notebookContainer) {{\n",
       "    x.observe(notebookContainer, {childList: true});\n",
       "}}\n",
       "\n",
       "// Listen for the clearing of the current output cell\n",
       "var outputEl = gd.closest('.output');\n",
       "if (outputEl) {{\n",
       "    x.observe(outputEl, {childList: true});\n",
       "}}\n",
       "\n",
       "                        })                };                });            </script>        </div>"
      ]
     },
     "metadata": {},
     "output_type": "display_data"
    }
   ],
   "source": [
    "fig = px.bar(\n",
    "    company_taxi_rides_total, \n",
    "    x='company_name', \n",
    "    y='trips_amount', \n",
    "    color='company_name', \n",
    "    title='Taxi Companies by Number of Rides',\n",
    "    labels={'company_name': 'Taxi Company', 'trips_amount': 'Amount of Trips'}\n",
    ")\n",
    "\n",
    "# Customize layout\n",
    "fig.update_layout(\n",
    "    title={\n",
    "        'text': 'Taxi Companies by Number of Rides',\n",
    "        'y': 0.9,\n",
    "        'x': 0.5,\n",
    "        'xanchor': 'center',\n",
    "        'yanchor': 'top',\n",
    "        'font': {'size': 24}\n",
    "    },\n",
    "    xaxis=dict(\n",
    "        title='Taxi Company',\n",
    "        tickangle=45,  # Rotate x-axis labels to 45 degrees\n",
    "        title_font={'size': 18}\n",
    "    ),\n",
    "    yaxis=dict(\n",
    "        title='Amount of Trips',\n",
    "        title_font={'size': 18}\n",
    "    ),\n",
    "    font=dict(size=14),\n",
    "    width=1140,  # Increase the width of the entire figure\n",
    "    height=700,  # Keep the height of the entire figure\n",
    "    margin=dict(\n",
    "        l=100,  # Adjust margins as needed\n",
    "        r=50,   # Adjust the right margin as needed\n",
    "        b=100,  # Increase the bottom margin to accommodate rotated labels\n",
    "        t=100   # Top margin\n",
    "    ),\n",
    "    legend_title_text='Taxi Companies',\n",
    "    legend=dict(\n",
    "        x=1,  # Position the legend on the right\n",
    "        y=1,  # Position the legend at the top\n",
    "        traceorder='normal',\n",
    "        font=dict(size=14)\n",
    "    )\n",
    ")\n",
    "\n",
    "# Show the plot\n",
    "fig.show()"
   ]
  },
  {
   "cell_type": "markdown",
   "metadata": {},
   "source": [
    "### Flash Cab is the most popular Taxi company, with 19,558 rides. It has double the rides of almost all of the other Taxi companies.\n",
    "- In 2nd place, is Taxi Affiliation Services, with 11,422 rides."
   ]
  },
  {
   "cell_type": "markdown",
   "metadata": {},
   "source": [
    "<h2 style=\"color:red;\">Merge dataframes:</h2>"
   ]
  },
  {
   "cell_type": "markdown",
   "metadata": {},
   "source": [
    "### Add dummy column"
   ]
  },
  {
   "cell_type": "code",
   "execution_count": 275,
   "metadata": {},
   "outputs": [],
   "source": [
    "# Create a dummy column in weather and trips DataFrame to join them on\n",
    "weather['join_key'] = 1\n",
    "trips['join_key'] = 1"
   ]
  },
  {
   "cell_type": "code",
   "execution_count": 276,
   "metadata": {},
   "outputs": [],
   "source": [
    "# Perform merge on join_key\n",
    "merged_df_weather_trips = pd.merge(weather, trips, on='join_key').drop('join_key', axis=1)"
   ]
  },
  {
   "cell_type": "code",
   "execution_count": 277,
   "metadata": {},
   "outputs": [
    {
     "name": "stdout",
     "output_type": "stream",
     "text": [
      "\n",
      "\n",
      "weather dataframe merged with trips dataframe:\n",
      "\n",
      "\n"
     ]
    },
    {
     "data": {
      "text/html": [
       "<div>\n",
       "<style scoped>\n",
       "    .dataframe tbody tr th:only-of-type {\n",
       "        vertical-align: middle;\n",
       "    }\n",
       "\n",
       "    .dataframe tbody tr th {\n",
       "        vertical-align: top;\n",
       "    }\n",
       "\n",
       "    .dataframe thead th {\n",
       "        text-align: right;\n",
       "    }\n",
       "</style>\n",
       "<table border=\"1\" class=\"dataframe\">\n",
       "  <thead>\n",
       "    <tr style=\"text-align: right;\">\n",
       "      <th></th>\n",
       "      <th>start_ts</th>\n",
       "      <th>weather_conditions</th>\n",
       "      <th>duration_seconds</th>\n",
       "      <th>dropoff_location_name</th>\n",
       "      <th>average_trips</th>\n",
       "    </tr>\n",
       "  </thead>\n",
       "  <tbody>\n",
       "    <tr>\n",
       "      <th>0</th>\n",
       "      <td>2017-11-25 16:00:00</td>\n",
       "      <td>Good</td>\n",
       "      <td>2410</td>\n",
       "      <td>Loop</td>\n",
       "      <td>10727</td>\n",
       "    </tr>\n",
       "    <tr>\n",
       "      <th>1</th>\n",
       "      <td>2017-11-25 16:00:00</td>\n",
       "      <td>Good</td>\n",
       "      <td>2410</td>\n",
       "      <td>River North</td>\n",
       "      <td>9523</td>\n",
       "    </tr>\n",
       "    <tr>\n",
       "      <th>2</th>\n",
       "      <td>2017-11-25 16:00:00</td>\n",
       "      <td>Good</td>\n",
       "      <td>2410</td>\n",
       "      <td>Streeterville</td>\n",
       "      <td>6664</td>\n",
       "    </tr>\n",
       "    <tr>\n",
       "      <th>3</th>\n",
       "      <td>2017-11-25 16:00:00</td>\n",
       "      <td>Good</td>\n",
       "      <td>2410</td>\n",
       "      <td>West Loop</td>\n",
       "      <td>5163</td>\n",
       "    </tr>\n",
       "    <tr>\n",
       "      <th>4</th>\n",
       "      <td>2017-11-25 16:00:00</td>\n",
       "      <td>Good</td>\n",
       "      <td>2410</td>\n",
       "      <td>O'Hare</td>\n",
       "      <td>2546</td>\n",
       "    </tr>\n",
       "  </tbody>\n",
       "</table>\n",
       "</div>"
      ],
      "text/plain": [
       "              start_ts weather_conditions  duration_seconds  \\\n",
       "0  2017-11-25 16:00:00               Good              2410   \n",
       "1  2017-11-25 16:00:00               Good              2410   \n",
       "2  2017-11-25 16:00:00               Good              2410   \n",
       "3  2017-11-25 16:00:00               Good              2410   \n",
       "4  2017-11-25 16:00:00               Good              2410   \n",
       "\n",
       "  dropoff_location_name  average_trips  \n",
       "0                  Loop          10727  \n",
       "1           River North           9523  \n",
       "2         Streeterville           6664  \n",
       "3             West Loop           5163  \n",
       "4                O'Hare           2546  "
      ]
     },
     "metadata": {},
     "output_type": "display_data"
    }
   ],
   "source": [
    "print('\\n')\n",
    "print(\"weather dataframe merged with trips dataframe:\")\n",
    "print('\\n')\n",
    "display(merged_df_weather_trips.head(5))"
   ]
  },
  {
   "cell_type": "markdown",
   "metadata": {},
   "source": [
    "### Get the average duration of rides on rainy Saturdays. \"Rainy\" is marked as \"Bad\" in the weather_conditions column, of the weather dataframe."
   ]
  },
  {
   "cell_type": "markdown",
   "metadata": {},
   "source": [
    "### In pandas, the dt.dayofweek property returns the day of the week as an integer, where the days are numbered from 0 to 6, starting with Monday.\n",
    "\n",
    "- Monday: 0\n",
    "- Tuesday: 1\n",
    "- Wednesday: 2\n",
    "- Thursday: 3\n",
    "- Friday: 4\n",
    "- Saturday: 5\n",
    "- Sunday: 6"
   ]
  },
  {
   "cell_type": "markdown",
   "metadata": {},
   "source": [
    "### Rainy Saturdays, with dropoff at O'Hare"
   ]
  },
  {
   "cell_type": "code",
   "execution_count": 281,
   "metadata": {},
   "outputs": [],
   "source": [
    "# Ensure 'start_ts' is in datetime format\n",
    "merged_df_weather_trips['start_ts'] = pd.to_datetime(merged_df_weather_trips['start_ts'])"
   ]
  },
  {
   "cell_type": "code",
   "execution_count": 282,
   "metadata": {},
   "outputs": [],
   "source": [
    "rainy_saturdays = merged_df_weather_trips[\n",
    "    (merged_df_weather_trips['weather_conditions'] == 'Bad') & \n",
    "    (merged_df_weather_trips['start_ts'].dt.dayofweek == 5) & \n",
    "    (merged_df_weather_trips['dropoff_location_name'] == \"O'Hare\")\n",
    "]"
   ]
  },
  {
   "cell_type": "code",
   "execution_count": 283,
   "metadata": {},
   "outputs": [
    {
     "data": {
      "text/html": [
       "<div>\n",
       "<style scoped>\n",
       "    .dataframe tbody tr th:only-of-type {\n",
       "        vertical-align: middle;\n",
       "    }\n",
       "\n",
       "    .dataframe tbody tr th {\n",
       "        vertical-align: top;\n",
       "    }\n",
       "\n",
       "    .dataframe thead th {\n",
       "        text-align: right;\n",
       "    }\n",
       "</style>\n",
       "<table border=\"1\" class=\"dataframe\">\n",
       "  <thead>\n",
       "    <tr style=\"text-align: right;\">\n",
       "      <th></th>\n",
       "      <th>start_ts</th>\n",
       "      <th>weather_conditions</th>\n",
       "      <th>duration_seconds</th>\n",
       "      <th>dropoff_location_name</th>\n",
       "      <th>average_trips</th>\n",
       "    </tr>\n",
       "  </thead>\n",
       "  <tbody>\n",
       "    <tr>\n",
       "      <th>568</th>\n",
       "      <td>2017-11-04 16:00:00</td>\n",
       "      <td>Bad</td>\n",
       "      <td>2969</td>\n",
       "      <td>O'Hare</td>\n",
       "      <td>2546</td>\n",
       "    </tr>\n",
       "    <tr>\n",
       "      <th>2824</th>\n",
       "      <td>2017-11-18 12:00:00</td>\n",
       "      <td>Bad</td>\n",
       "      <td>1980</td>\n",
       "      <td>O'Hare</td>\n",
       "      <td>2546</td>\n",
       "    </tr>\n",
       "    <tr>\n",
       "      <th>3200</th>\n",
       "      <td>2017-11-04 17:00:00</td>\n",
       "      <td>Bad</td>\n",
       "      <td>2460</td>\n",
       "      <td>O'Hare</td>\n",
       "      <td>2546</td>\n",
       "    </tr>\n",
       "    <tr>\n",
       "      <th>4798</th>\n",
       "      <td>2017-11-04 16:00:00</td>\n",
       "      <td>Bad</td>\n",
       "      <td>2760</td>\n",
       "      <td>O'Hare</td>\n",
       "      <td>2546</td>\n",
       "    </tr>\n",
       "    <tr>\n",
       "      <th>4892</th>\n",
       "      <td>2017-11-18 12:00:00</td>\n",
       "      <td>Bad</td>\n",
       "      <td>2460</td>\n",
       "      <td>O'Hare</td>\n",
       "      <td>2546</td>\n",
       "    </tr>\n",
       "  </tbody>\n",
       "</table>\n",
       "</div>"
      ],
      "text/plain": [
       "                start_ts weather_conditions  duration_seconds  \\\n",
       "568  2017-11-04 16:00:00                Bad              2969   \n",
       "2824 2017-11-18 12:00:00                Bad              1980   \n",
       "3200 2017-11-04 17:00:00                Bad              2460   \n",
       "4798 2017-11-04 16:00:00                Bad              2760   \n",
       "4892 2017-11-18 12:00:00                Bad              2460   \n",
       "\n",
       "     dropoff_location_name  average_trips  \n",
       "568                 O'Hare           2546  \n",
       "2824                O'Hare           2546  \n",
       "3200                O'Hare           2546  \n",
       "4798                O'Hare           2546  \n",
       "4892                O'Hare           2546  "
      ]
     },
     "metadata": {},
     "output_type": "display_data"
    }
   ],
   "source": [
    "display(rainy_saturdays.head(5))"
   ]
  },
  {
   "cell_type": "markdown",
   "metadata": {},
   "source": [
    "### Sunny Saturdays, with dropoff at O'Hare"
   ]
  },
  {
   "cell_type": "code",
   "execution_count": 285,
   "metadata": {},
   "outputs": [],
   "source": [
    "sunny_saturdays = merged_df_weather_trips[\n",
    "    (merged_df_weather_trips['weather_conditions'] == 'Good') & \n",
    "    (merged_df_weather_trips['start_ts'].dt.dayofweek == 5) & \n",
    "    (merged_df_weather_trips['dropoff_location_name'] == \"O'Hare\")\n",
    "]"
   ]
  },
  {
   "cell_type": "code",
   "execution_count": 286,
   "metadata": {},
   "outputs": [
    {
     "data": {
      "text/html": [
       "<div>\n",
       "<style scoped>\n",
       "    .dataframe tbody tr th:only-of-type {\n",
       "        vertical-align: middle;\n",
       "    }\n",
       "\n",
       "    .dataframe tbody tr th {\n",
       "        vertical-align: top;\n",
       "    }\n",
       "\n",
       "    .dataframe thead th {\n",
       "        text-align: right;\n",
       "    }\n",
       "</style>\n",
       "<table border=\"1\" class=\"dataframe\">\n",
       "  <thead>\n",
       "    <tr style=\"text-align: right;\">\n",
       "      <th></th>\n",
       "      <th>start_ts</th>\n",
       "      <th>weather_conditions</th>\n",
       "      <th>duration_seconds</th>\n",
       "      <th>dropoff_location_name</th>\n",
       "      <th>average_trips</th>\n",
       "    </tr>\n",
       "  </thead>\n",
       "  <tbody>\n",
       "    <tr>\n",
       "      <th>4</th>\n",
       "      <td>2017-11-25 16:00:00</td>\n",
       "      <td>Good</td>\n",
       "      <td>2410</td>\n",
       "      <td>O'Hare</td>\n",
       "      <td>2546</td>\n",
       "    </tr>\n",
       "    <tr>\n",
       "      <th>98</th>\n",
       "      <td>2017-11-25 14:00:00</td>\n",
       "      <td>Good</td>\n",
       "      <td>1920</td>\n",
       "      <td>O'Hare</td>\n",
       "      <td>2546</td>\n",
       "    </tr>\n",
       "    <tr>\n",
       "      <th>192</th>\n",
       "      <td>2017-11-25 12:00:00</td>\n",
       "      <td>Good</td>\n",
       "      <td>1543</td>\n",
       "      <td>O'Hare</td>\n",
       "      <td>2546</td>\n",
       "    </tr>\n",
       "    <tr>\n",
       "      <th>286</th>\n",
       "      <td>2017-11-04 10:00:00</td>\n",
       "      <td>Good</td>\n",
       "      <td>2512</td>\n",
       "      <td>O'Hare</td>\n",
       "      <td>2546</td>\n",
       "    </tr>\n",
       "    <tr>\n",
       "      <th>380</th>\n",
       "      <td>2017-11-11 07:00:00</td>\n",
       "      <td>Good</td>\n",
       "      <td>1440</td>\n",
       "      <td>O'Hare</td>\n",
       "      <td>2546</td>\n",
       "    </tr>\n",
       "  </tbody>\n",
       "</table>\n",
       "</div>"
      ],
      "text/plain": [
       "               start_ts weather_conditions  duration_seconds  \\\n",
       "4   2017-11-25 16:00:00               Good              2410   \n",
       "98  2017-11-25 14:00:00               Good              1920   \n",
       "192 2017-11-25 12:00:00               Good              1543   \n",
       "286 2017-11-04 10:00:00               Good              2512   \n",
       "380 2017-11-11 07:00:00               Good              1440   \n",
       "\n",
       "    dropoff_location_name  average_trips  \n",
       "4                  O'Hare           2546  \n",
       "98                 O'Hare           2546  \n",
       "192                O'Hare           2546  \n",
       "286                O'Hare           2546  \n",
       "380                O'Hare           2546  "
      ]
     },
     "metadata": {},
     "output_type": "display_data"
    }
   ],
   "source": [
    "display(sunny_saturdays.head(5))"
   ]
  },
  {
   "cell_type": "markdown",
   "metadata": {},
   "source": [
    "### Calculate the average duration of rides on rainy / sunny Saturdays."
   ]
  },
  {
   "cell_type": "code",
   "execution_count": 288,
   "metadata": {},
   "outputs": [
    {
     "name": "stdout",
     "output_type": "stream",
     "text": [
      "\n",
      "\n",
      "Rainy Saturdays avg duration:\n",
      "2409.23\n"
     ]
    }
   ],
   "source": [
    "# Calculate the average duration_seconds for rainy and sunny Saturdays\n",
    "rainy_saturdays_avg_duration = rainy_saturdays['duration_seconds'].mean()\n",
    "print('\\n')\n",
    "print(\"Rainy Saturdays avg duration:\")\n",
    "print(round(rainy_saturdays_avg_duration, 2))"
   ]
  },
  {
   "cell_type": "code",
   "execution_count": 289,
   "metadata": {},
   "outputs": [
    {
     "name": "stdout",
     "output_type": "stream",
     "text": [
      "Average number of minutes, for rides on rainy Saturdays:\n",
      "40.15382882882883\n"
     ]
    }
   ],
   "source": [
    "rainy_sat_minutes = rainy_saturdays_avg_duration / 60\n",
    "print(\"Average number of minutes, for rides on rainy Saturdays:\")\n",
    "print(rainy_sat_minutes)"
   ]
  },
  {
   "cell_type": "code",
   "execution_count": 290,
   "metadata": {},
   "outputs": [
    {
     "name": "stdout",
     "output_type": "stream",
     "text": [
      "\n",
      "\n",
      "Sunny Saturdays avg duration:\n",
      "2032.25\n"
     ]
    }
   ],
   "source": [
    "sunny_saturdays_avg_duration = sunny_saturdays['duration_seconds'].mean()\n",
    "print('\\n')\n",
    "print(\"Sunny Saturdays avg duration:\")\n",
    "print(round(sunny_saturdays_avg_duration, 2))"
   ]
  },
  {
   "cell_type": "code",
   "execution_count": 291,
   "metadata": {},
   "outputs": [
    {
     "name": "stdout",
     "output_type": "stream",
     "text": [
      "Average number of minutes, for rides on sunny Saturdays:\n",
      "33.87088520055325\n"
     ]
    }
   ],
   "source": [
    "sunny_sat_minutes = sunny_saturdays_avg_duration / 60\n",
    "print(\"Average number of minutes, for rides on sunny Saturdays:\")\n",
    "print(sunny_sat_minutes)"
   ]
  },
  {
   "cell_type": "markdown",
   "metadata": {},
   "source": [
    "<h2 style=\"color:red;\">Testing Hypotheses:</h2>"
   ]
  },
  {
   "cell_type": "markdown",
   "metadata": {},
   "source": [
    "<h2 style=\"color:hotpink;\">Null Hypothesis:</h2>\n",
    "- The average duration of rides, from the Loop, to O'Hare International Airport, does NOT change on rainy Saturdays."
   ]
  },
  {
   "cell_type": "markdown",
   "metadata": {},
   "source": [
    "<h2 style=\"color:hotpink;\">Alternative Hypothesis:</h2>\n",
    "- The average duration of rides, from the Loop, to O'Hare International Airport, DOES change on rainy Saturdays."
   ]
  },
  {
   "cell_type": "code",
   "execution_count": 295,
   "metadata": {},
   "outputs": [
    {
     "name": "stdout",
     "output_type": "stream",
     "text": [
      "\n",
      "\n",
      "P-value: 9.126383933880086e-08\n",
      "\n",
      "\n",
      "\u001b[1mReject the null hypothesis: There is a significant difference in ride durations on rainy Saturdays.\u001b[0m\n"
     ]
    }
   ],
   "source": [
    "# Perform T-test\n",
    "t_stat, pvalue = stats.ttest_ind(rainy_saturdays['duration_seconds'], sunny_saturdays['duration_seconds'], equal_var=False)\n",
    "\n",
    "print('\\n')\n",
    "print(f\"P-value: {pvalue}\")\n",
    "print('\\n')\n",
    "\n",
    "alpha = 0.05\n",
    "\n",
    "if pvalue < alpha:\n",
    "    \n",
    "    print(\"\\033[1mReject the null hypothesis: There is a significant difference in ride durations on rainy Saturdays.\\033[0m\")\n",
    "else:\n",
    "    print(\"\\033[1mFail to reject the null hypothesis: There is no significant difference in ride durations on rainy Saturdays.\\033[0m\")"
   ]
  },
  {
   "cell_type": "markdown",
   "metadata": {},
   "source": [
    "## Description of hypothesis testing:\n",
    "\n",
    "### alpha = 0.05\n",
    "- This is the threshold for significance.\n",
    "\n",
    "### pvalue = 0.000000091 , which is far less than the alpha (0.05)\n",
    "-  If the P-value is less than alpha ( 0.05 ), we reject the null hypothesis."
   ]
  },
  {
   "cell_type": "markdown",
   "metadata": {},
   "source": [
    "<h2 style=\"color:red;\">Conclusion:</h2>"
   ]
  },
  {
   "cell_type": "markdown",
   "metadata": {},
   "source": [
    "### The top 10 neighborhoods, in terms of drop-offs:\n",
    "- Loop neighborhood has the most amount of drop-offs, at 10,727.\n",
    "- River North neighborhood came in 2nd, with 9,523 drop-offs.\n",
    "- Loop had double the amount of drop-offs compared to most of the top 10.\n",
    "### Taxi companies by number of rides:\n",
    "- Flash Cab company had the most amount of rides than any other company, with 19,558 rides.\n",
    "- Flash Cab company had more than double the rides of most of the top 10 cab companies.\n",
    "### Ride Duration on rainy / non-rainy Saturdays:\n",
    "- There is a significant difference in ride durations on rainy Saturdays, as compared to non-rainy Saturdays.\n",
    "- The average duration of rides ( in seconds ), on a rainy Saturday is : 2427 ( 40 minutes ).\n",
    "- The average duration of rides ( in seconds ), on a non-rainy Saturday is : 2000 ( 33 minutes )."
   ]
  }
 ],
 "metadata": {
  "ExecuteTimeLog": [
   {
    "duration": 314,
    "start_time": "2024-09-01T00:01:35.045Z"
   },
   {
    "duration": 2,
    "start_time": "2024-09-01T00:07:38.394Z"
   },
   {
    "duration": 495,
    "start_time": "2024-09-01T00:13:32.334Z"
   },
   {
    "duration": 8,
    "start_time": "2024-09-01T00:13:42.536Z"
   },
   {
    "duration": 19,
    "start_time": "2024-09-01T00:15:02.677Z"
   },
   {
    "duration": 13,
    "start_time": "2024-09-01T00:15:39.235Z"
   },
   {
    "duration": 10,
    "start_time": "2024-09-01T00:15:39.591Z"
   },
   {
    "duration": 12,
    "start_time": "2024-09-01T00:15:40.525Z"
   },
   {
    "duration": 21,
    "start_time": "2024-09-01T00:16:02.977Z"
   },
   {
    "duration": 11,
    "start_time": "2024-09-01T00:16:14.055Z"
   },
   {
    "duration": 10,
    "start_time": "2024-09-01T00:16:17.160Z"
   },
   {
    "duration": 12,
    "start_time": "2024-09-01T00:16:19.927Z"
   },
   {
    "duration": 10,
    "start_time": "2024-09-01T00:16:52.444Z"
   },
   {
    "duration": 9,
    "start_time": "2024-09-01T00:17:07.112Z"
   },
   {
    "duration": 9,
    "start_time": "2024-09-01T00:17:22.018Z"
   },
   {
    "duration": 332,
    "start_time": "2024-09-01T06:05:18.961Z"
   },
   {
    "duration": 17,
    "start_time": "2024-09-01T06:05:19.675Z"
   },
   {
    "duration": 12,
    "start_time": "2024-09-01T06:05:26.233Z"
   },
   {
    "duration": 17,
    "start_time": "2024-09-01T06:05:27.191Z"
   },
   {
    "duration": 10,
    "start_time": "2024-09-01T06:05:42.297Z"
   },
   {
    "duration": 9,
    "start_time": "2024-09-01T06:07:00.677Z"
   },
   {
    "duration": 173,
    "start_time": "2024-09-01T06:07:49.499Z"
   },
   {
    "duration": 8,
    "start_time": "2024-09-01T06:08:03.637Z"
   },
   {
    "duration": 3,
    "start_time": "2024-09-01T06:12:42.026Z"
   },
   {
    "duration": 9,
    "start_time": "2024-09-01T06:12:42.743Z"
   },
   {
    "duration": 9,
    "start_time": "2024-09-01T06:12:43.289Z"
   },
   {
    "duration": 12,
    "start_time": "2024-09-01T06:12:44.363Z"
   },
   {
    "duration": 8,
    "start_time": "2024-09-01T06:12:45.999Z"
   },
   {
    "duration": 8,
    "start_time": "2024-09-01T06:12:47.716Z"
   },
   {
    "duration": 8,
    "start_time": "2024-09-01T06:12:49.596Z"
   },
   {
    "duration": 5,
    "start_time": "2024-09-01T06:21:22.460Z"
   },
   {
    "duration": 10,
    "start_time": "2024-09-01T06:23:51.467Z"
   },
   {
    "duration": 9,
    "start_time": "2024-09-01T06:23:51.971Z"
   },
   {
    "duration": 12,
    "start_time": "2024-09-01T06:23:52.722Z"
   },
   {
    "duration": 8,
    "start_time": "2024-09-01T06:23:54.026Z"
   },
   {
    "duration": 8,
    "start_time": "2024-09-01T06:23:55.278Z"
   },
   {
    "duration": 8,
    "start_time": "2024-09-01T06:23:56.680Z"
   },
   {
    "duration": 6,
    "start_time": "2024-09-01T06:25:04.363Z"
   },
   {
    "duration": 12,
    "start_time": "2024-09-01T06:25:14.780Z"
   },
   {
    "duration": 4,
    "start_time": "2024-09-01T06:25:37.674Z"
   },
   {
    "duration": 9,
    "start_time": "2024-09-01T06:31:30.708Z"
   },
   {
    "duration": 13,
    "start_time": "2024-09-01T06:34:38.792Z"
   },
   {
    "duration": 12,
    "start_time": "2024-09-01T06:35:15.594Z"
   },
   {
    "duration": 10,
    "start_time": "2024-09-01T06:36:58.761Z"
   },
   {
    "duration": 11,
    "start_time": "2024-09-01T06:37:00.622Z"
   },
   {
    "duration": 9,
    "start_time": "2024-09-01T06:37:36.403Z"
   },
   {
    "duration": 10,
    "start_time": "2024-09-01T06:37:58.528Z"
   },
   {
    "duration": 10,
    "start_time": "2024-09-01T06:38:19.847Z"
   },
   {
    "duration": 12,
    "start_time": "2024-09-01T06:42:50.940Z"
   },
   {
    "duration": 5,
    "start_time": "2024-09-01T06:45:06.822Z"
   },
   {
    "duration": 8,
    "start_time": "2024-09-01T06:46:11.176Z"
   },
   {
    "duration": 8,
    "start_time": "2024-09-01T06:46:40.880Z"
   },
   {
    "duration": 12,
    "start_time": "2024-09-01T06:53:57.333Z"
   },
   {
    "duration": 8,
    "start_time": "2024-09-01T06:54:02.103Z"
   },
   {
    "duration": 8,
    "start_time": "2024-09-01T06:54:34.137Z"
   },
   {
    "duration": 12,
    "start_time": "2024-09-01T06:55:18.940Z"
   },
   {
    "duration": 3,
    "start_time": "2024-09-01T06:55:26.555Z"
   },
   {
    "duration": 8,
    "start_time": "2024-09-01T06:55:39.355Z"
   },
   {
    "duration": 8,
    "start_time": "2024-09-01T06:55:45.570Z"
   },
   {
    "duration": 5,
    "start_time": "2024-09-01T06:56:22.866Z"
   },
   {
    "duration": 392,
    "start_time": "2024-09-01T06:57:06.705Z"
   },
   {
    "duration": 3,
    "start_time": "2024-09-01T06:57:22.795Z"
   },
   {
    "duration": 9,
    "start_time": "2024-09-01T06:57:37.248Z"
   },
   {
    "duration": 2,
    "start_time": "2024-09-01T06:59:18.040Z"
   },
   {
    "duration": 11,
    "start_time": "2024-09-01T06:59:18.046Z"
   },
   {
    "duration": 9,
    "start_time": "2024-09-01T06:59:18.059Z"
   },
   {
    "duration": 9,
    "start_time": "2024-09-01T06:59:18.069Z"
   },
   {
    "duration": 7,
    "start_time": "2024-09-01T06:59:18.080Z"
   },
   {
    "duration": 7,
    "start_time": "2024-09-01T06:59:18.091Z"
   },
   {
    "duration": 3,
    "start_time": "2024-09-01T06:59:18.100Z"
   },
   {
    "duration": 45,
    "start_time": "2024-09-01T06:59:18.104Z"
   },
   {
    "duration": 8,
    "start_time": "2024-09-01T06:59:18.151Z"
   },
   {
    "duration": 5,
    "start_time": "2024-09-01T06:59:18.161Z"
   },
   {
    "duration": 4,
    "start_time": "2024-09-01T06:59:26.639Z"
   },
   {
    "duration": 3,
    "start_time": "2024-09-01T06:59:37.032Z"
   },
   {
    "duration": 3,
    "start_time": "2024-09-01T07:02:01.214Z"
   },
   {
    "duration": 9,
    "start_time": "2024-09-01T07:03:29.905Z"
   },
   {
    "duration": 322,
    "start_time": "2024-09-01T07:03:48.363Z"
   },
   {
    "duration": 12,
    "start_time": "2024-09-01T07:03:48.687Z"
   },
   {
    "duration": 8,
    "start_time": "2024-09-01T07:03:48.700Z"
   },
   {
    "duration": 10,
    "start_time": "2024-09-01T07:03:48.710Z"
   },
   {
    "duration": 25,
    "start_time": "2024-09-01T07:03:48.722Z"
   },
   {
    "duration": 8,
    "start_time": "2024-09-01T07:03:48.749Z"
   },
   {
    "duration": 7,
    "start_time": "2024-09-01T07:03:48.759Z"
   },
   {
    "duration": 7,
    "start_time": "2024-09-01T07:03:48.768Z"
   },
   {
    "duration": 4,
    "start_time": "2024-09-01T07:03:48.778Z"
   },
   {
    "duration": 8,
    "start_time": "2024-09-01T07:03:48.785Z"
   },
   {
    "duration": 3,
    "start_time": "2024-09-01T07:03:48.794Z"
   },
   {
    "duration": 3,
    "start_time": "2024-09-01T07:03:51.543Z"
   },
   {
    "duration": 8,
    "start_time": "2024-09-01T07:03:51.958Z"
   },
   {
    "duration": 7,
    "start_time": "2024-09-01T07:03:53.460Z"
   },
   {
    "duration": 5,
    "start_time": "2024-09-01T07:04:15.791Z"
   },
   {
    "duration": 2,
    "start_time": "2024-09-01T07:04:19.755Z"
   },
   {
    "duration": 9,
    "start_time": "2024-09-01T07:04:19.762Z"
   },
   {
    "duration": 9,
    "start_time": "2024-09-01T07:04:19.773Z"
   },
   {
    "duration": 9,
    "start_time": "2024-09-01T07:04:19.784Z"
   },
   {
    "duration": 8,
    "start_time": "2024-09-01T07:04:19.795Z"
   },
   {
    "duration": 9,
    "start_time": "2024-09-01T07:04:19.805Z"
   },
   {
    "duration": 32,
    "start_time": "2024-09-01T07:04:19.816Z"
   },
   {
    "duration": 9,
    "start_time": "2024-09-01T07:04:19.851Z"
   },
   {
    "duration": 5,
    "start_time": "2024-09-01T07:04:19.861Z"
   },
   {
    "duration": 5,
    "start_time": "2024-09-01T07:04:23.159Z"
   },
   {
    "duration": 3,
    "start_time": "2024-09-01T07:04:44.776Z"
   },
   {
    "duration": 4,
    "start_time": "2024-09-01T07:04:52.885Z"
   },
   {
    "duration": 5,
    "start_time": "2024-09-01T07:05:23.178Z"
   },
   {
    "duration": 3,
    "start_time": "2024-09-01T07:05:53.210Z"
   },
   {
    "duration": 4,
    "start_time": "2024-09-01T07:06:04.378Z"
   },
   {
    "duration": 5,
    "start_time": "2024-09-01T07:08:36.440Z"
   },
   {
    "duration": 5,
    "start_time": "2024-09-01T07:08:38.269Z"
   },
   {
    "duration": 3,
    "start_time": "2024-09-01T07:08:40.591Z"
   },
   {
    "duration": 7,
    "start_time": "2024-09-01T07:08:41.140Z"
   },
   {
    "duration": 5,
    "start_time": "2024-09-01T07:08:45.276Z"
   },
   {
    "duration": 3,
    "start_time": "2024-09-01T07:08:48.042Z"
   },
   {
    "duration": 4,
    "start_time": "2024-09-01T07:08:48.560Z"
   },
   {
    "duration": 4,
    "start_time": "2024-09-01T07:11:42.576Z"
   },
   {
    "duration": 3,
    "start_time": "2024-09-01T07:13:22.615Z"
   },
   {
    "duration": 3,
    "start_time": "2024-09-01T07:13:32.761Z"
   },
   {
    "duration": 5,
    "start_time": "2024-09-01T07:13:35.692Z"
   },
   {
    "duration": 5,
    "start_time": "2024-09-01T07:16:01.912Z"
   },
   {
    "duration": 648,
    "start_time": "2024-09-02T05:05:41.905Z"
   },
   {
    "duration": 591,
    "start_time": "2024-09-02T05:05:42.556Z"
   },
   {
    "duration": 0,
    "start_time": "2024-09-02T05:05:43.150Z"
   },
   {
    "duration": 0,
    "start_time": "2024-09-02T05:05:43.151Z"
   },
   {
    "duration": 0,
    "start_time": "2024-09-02T05:05:43.152Z"
   },
   {
    "duration": 0,
    "start_time": "2024-09-02T05:05:43.154Z"
   },
   {
    "duration": 0,
    "start_time": "2024-09-02T05:05:43.155Z"
   },
   {
    "duration": 0,
    "start_time": "2024-09-02T05:05:43.156Z"
   },
   {
    "duration": 0,
    "start_time": "2024-09-02T05:05:43.157Z"
   },
   {
    "duration": 0,
    "start_time": "2024-09-02T05:05:43.158Z"
   },
   {
    "duration": 0,
    "start_time": "2024-09-02T05:05:43.160Z"
   },
   {
    "duration": 0,
    "start_time": "2024-09-02T05:05:43.160Z"
   },
   {
    "duration": 0,
    "start_time": "2024-09-02T05:05:43.162Z"
   },
   {
    "duration": 0,
    "start_time": "2024-09-02T05:05:43.163Z"
   },
   {
    "duration": 0,
    "start_time": "2024-09-02T05:05:43.165Z"
   },
   {
    "duration": 0,
    "start_time": "2024-09-02T05:05:43.166Z"
   },
   {
    "duration": 0,
    "start_time": "2024-09-02T05:05:43.167Z"
   },
   {
    "duration": 0,
    "start_time": "2024-09-02T05:05:43.169Z"
   },
   {
    "duration": 0,
    "start_time": "2024-09-02T05:05:43.170Z"
   },
   {
    "duration": 0,
    "start_time": "2024-09-02T05:05:43.173Z"
   },
   {
    "duration": 0,
    "start_time": "2024-09-02T05:05:43.175Z"
   },
   {
    "duration": 0,
    "start_time": "2024-09-02T05:05:43.176Z"
   },
   {
    "duration": 0,
    "start_time": "2024-09-02T05:05:43.178Z"
   },
   {
    "duration": 0,
    "start_time": "2024-09-02T05:05:43.179Z"
   },
   {
    "duration": 0,
    "start_time": "2024-09-02T05:05:43.224Z"
   },
   {
    "duration": 0,
    "start_time": "2024-09-02T05:05:43.225Z"
   },
   {
    "duration": 0,
    "start_time": "2024-09-02T05:05:43.226Z"
   },
   {
    "duration": 0,
    "start_time": "2024-09-02T05:05:43.227Z"
   },
   {
    "duration": 0,
    "start_time": "2024-09-02T05:05:43.228Z"
   },
   {
    "duration": 0,
    "start_time": "2024-09-02T05:05:43.229Z"
   },
   {
    "duration": 0,
    "start_time": "2024-09-02T05:05:43.231Z"
   },
   {
    "duration": 0,
    "start_time": "2024-09-02T05:05:43.233Z"
   },
   {
    "duration": 0,
    "start_time": "2024-09-02T05:05:43.234Z"
   },
   {
    "duration": 695,
    "start_time": "2024-09-02T05:39:00.418Z"
   },
   {
    "duration": 587,
    "start_time": "2024-09-02T05:39:04.032Z"
   },
   {
    "duration": 115,
    "start_time": "2024-09-02T05:39:24.991Z"
   },
   {
    "duration": 15,
    "start_time": "2024-09-02T05:39:56.714Z"
   },
   {
    "duration": 9,
    "start_time": "2024-09-02T05:43:33.224Z"
   },
   {
    "duration": 160,
    "start_time": "2024-09-02T05:43:48.355Z"
   },
   {
    "duration": 12,
    "start_time": "2024-09-02T05:43:57.691Z"
   },
   {
    "duration": 8,
    "start_time": "2024-09-02T05:44:40.600Z"
   },
   {
    "duration": 18,
    "start_time": "2024-09-02T05:44:49.456Z"
   },
   {
    "duration": 9,
    "start_time": "2024-09-02T05:44:56.745Z"
   },
   {
    "duration": 4,
    "start_time": "2024-09-02T05:45:02.456Z"
   },
   {
    "duration": 5,
    "start_time": "2024-09-02T05:45:03.724Z"
   },
   {
    "duration": 3,
    "start_time": "2024-09-02T05:45:04.562Z"
   },
   {
    "duration": 4,
    "start_time": "2024-09-02T05:45:06.814Z"
   },
   {
    "duration": 4,
    "start_time": "2024-09-02T05:45:08.263Z"
   },
   {
    "duration": 6,
    "start_time": "2024-09-02T05:45:11.225Z"
   },
   {
    "duration": 5,
    "start_time": "2024-09-02T05:48:48.401Z"
   },
   {
    "duration": 71,
    "start_time": "2024-09-02T05:48:58.247Z"
   },
   {
    "duration": 10,
    "start_time": "2024-09-02T05:49:17.529Z"
   },
   {
    "duration": 7,
    "start_time": "2024-09-02T05:50:26.945Z"
   },
   {
    "duration": 9,
    "start_time": "2024-09-02T05:50:29.511Z"
   },
   {
    "duration": 8,
    "start_time": "2024-09-02T05:50:32.012Z"
   },
   {
    "duration": 11,
    "start_time": "2024-09-02T05:50:34.439Z"
   },
   {
    "duration": 9,
    "start_time": "2024-09-02T05:50:35.757Z"
   },
   {
    "duration": 4,
    "start_time": "2024-09-02T05:50:38.506Z"
   },
   {
    "duration": 4,
    "start_time": "2024-09-02T05:50:39.732Z"
   },
   {
    "duration": 3,
    "start_time": "2024-09-02T05:50:40.254Z"
   },
   {
    "duration": 4,
    "start_time": "2024-09-02T05:50:40.826Z"
   },
   {
    "duration": 4,
    "start_time": "2024-09-02T05:50:42.030Z"
   },
   {
    "duration": 4,
    "start_time": "2024-09-02T05:50:42.955Z"
   },
   {
    "duration": 14,
    "start_time": "2024-09-02T05:52:33.848Z"
   },
   {
    "duration": 10,
    "start_time": "2024-09-02T05:54:02.744Z"
   },
   {
    "duration": 11,
    "start_time": "2024-09-02T05:54:34.831Z"
   },
   {
    "duration": 9,
    "start_time": "2024-09-02T05:54:36.388Z"
   },
   {
    "duration": 4,
    "start_time": "2024-09-02T05:54:37.452Z"
   },
   {
    "duration": 5,
    "start_time": "2024-09-02T05:54:38.049Z"
   },
   {
    "duration": 3,
    "start_time": "2024-09-02T05:54:38.421Z"
   },
   {
    "duration": 4,
    "start_time": "2024-09-02T05:54:38.794Z"
   },
   {
    "duration": 4,
    "start_time": "2024-09-02T05:54:39.463Z"
   },
   {
    "duration": 6,
    "start_time": "2024-09-02T05:54:40.579Z"
   },
   {
    "duration": 11,
    "start_time": "2024-09-02T05:59:21.698Z"
   },
   {
    "duration": 9,
    "start_time": "2024-09-02T05:59:36.730Z"
   },
   {
    "duration": 8,
    "start_time": "2024-09-02T06:00:38.998Z"
   },
   {
    "duration": 11,
    "start_time": "2024-09-02T06:02:05.337Z"
   },
   {
    "duration": 9,
    "start_time": "2024-09-02T06:02:29.933Z"
   },
   {
    "duration": 4,
    "start_time": "2024-09-02T06:02:39.994Z"
   },
   {
    "duration": 4,
    "start_time": "2024-09-02T06:02:41.239Z"
   },
   {
    "duration": 3,
    "start_time": "2024-09-02T06:02:42.047Z"
   },
   {
    "duration": 5,
    "start_time": "2024-09-02T06:02:42.412Z"
   },
   {
    "duration": 4,
    "start_time": "2024-09-02T06:02:48.464Z"
   },
   {
    "duration": 2,
    "start_time": "2024-09-02T06:03:55.965Z"
   },
   {
    "duration": 2,
    "start_time": "2024-09-02T06:04:01.372Z"
   },
   {
    "duration": 3,
    "start_time": "2024-09-02T06:06:35.672Z"
   },
   {
    "duration": 6,
    "start_time": "2024-09-02T06:06:36.047Z"
   },
   {
    "duration": 4,
    "start_time": "2024-09-02T06:06:42.187Z"
   },
   {
    "duration": 4,
    "start_time": "2024-09-02T06:06:42.717Z"
   },
   {
    "duration": 4,
    "start_time": "2024-09-02T06:09:20.741Z"
   },
   {
    "duration": 3,
    "start_time": "2024-09-02T06:11:52.106Z"
   },
   {
    "duration": 3,
    "start_time": "2024-09-02T06:13:28.599Z"
   },
   {
    "duration": 4,
    "start_time": "2024-09-02T06:13:38.406Z"
   },
   {
    "duration": 3,
    "start_time": "2024-09-02T06:13:48.540Z"
   },
   {
    "duration": 5,
    "start_time": "2024-09-02T06:14:35.475Z"
   },
   {
    "duration": 3,
    "start_time": "2024-09-02T06:15:06.367Z"
   },
   {
    "duration": 5,
    "start_time": "2024-09-02T06:17:18.620Z"
   },
   {
    "duration": 5,
    "start_time": "2024-09-02T06:17:54.016Z"
   },
   {
    "duration": 4,
    "start_time": "2024-09-02T06:21:04.600Z"
   },
   {
    "duration": 9,
    "start_time": "2024-09-02T06:21:10.988Z"
   },
   {
    "duration": 4,
    "start_time": "2024-09-02T06:21:38.791Z"
   },
   {
    "duration": 5,
    "start_time": "2024-09-02T06:22:26.348Z"
   },
   {
    "duration": 4,
    "start_time": "2024-09-02T06:22:27.465Z"
   },
   {
    "duration": 2,
    "start_time": "2024-09-02T06:22:42.225Z"
   },
   {
    "duration": 10,
    "start_time": "2024-09-02T06:22:42.231Z"
   },
   {
    "duration": 8,
    "start_time": "2024-09-02T06:22:42.242Z"
   },
   {
    "duration": 10,
    "start_time": "2024-09-02T06:22:42.252Z"
   },
   {
    "duration": 8,
    "start_time": "2024-09-02T06:22:42.264Z"
   },
   {
    "duration": 11,
    "start_time": "2024-09-02T06:22:42.274Z"
   },
   {
    "duration": 7,
    "start_time": "2024-09-02T06:22:42.287Z"
   },
   {
    "duration": 4,
    "start_time": "2024-09-02T06:22:42.295Z"
   },
   {
    "duration": 4,
    "start_time": "2024-09-02T06:22:42.301Z"
   },
   {
    "duration": 2,
    "start_time": "2024-09-02T06:22:42.307Z"
   },
   {
    "duration": 4,
    "start_time": "2024-09-02T06:22:42.313Z"
   },
   {
    "duration": 4,
    "start_time": "2024-09-02T06:22:42.319Z"
   },
   {
    "duration": 3,
    "start_time": "2024-09-02T06:22:42.324Z"
   },
   {
    "duration": 3,
    "start_time": "2024-09-02T06:22:42.328Z"
   },
   {
    "duration": 3,
    "start_time": "2024-09-02T06:22:42.332Z"
   },
   {
    "duration": 51,
    "start_time": "2024-09-02T06:22:42.337Z"
   },
   {
    "duration": 4,
    "start_time": "2024-09-02T06:22:42.389Z"
   },
   {
    "duration": 4,
    "start_time": "2024-09-02T06:22:42.394Z"
   },
   {
    "duration": 4,
    "start_time": "2024-09-02T06:22:42.400Z"
   },
   {
    "duration": 3,
    "start_time": "2024-09-02T06:22:42.406Z"
   },
   {
    "duration": 4,
    "start_time": "2024-09-02T06:22:42.410Z"
   },
   {
    "duration": 3,
    "start_time": "2024-09-02T06:22:42.416Z"
   },
   {
    "duration": 4,
    "start_time": "2024-09-02T06:22:42.421Z"
   },
   {
    "duration": 3,
    "start_time": "2024-09-02T06:22:42.427Z"
   },
   {
    "duration": 55,
    "start_time": "2024-09-02T06:22:42.432Z"
   },
   {
    "duration": 4,
    "start_time": "2024-09-02T06:22:42.489Z"
   },
   {
    "duration": 6,
    "start_time": "2024-09-02T06:22:55.115Z"
   },
   {
    "duration": 4,
    "start_time": "2024-09-02T06:22:59.362Z"
   },
   {
    "duration": 4,
    "start_time": "2024-09-02T06:24:30.380Z"
   },
   {
    "duration": 3,
    "start_time": "2024-09-02T06:24:30.612Z"
   },
   {
    "duration": 5,
    "start_time": "2024-09-02T06:24:31.383Z"
   },
   {
    "duration": 4,
    "start_time": "2024-09-02T06:24:31.631Z"
   },
   {
    "duration": 6,
    "start_time": "2024-09-02T06:24:32.879Z"
   },
   {
    "duration": 4,
    "start_time": "2024-09-02T06:24:33.356Z"
   },
   {
    "duration": 5,
    "start_time": "2024-09-02T06:24:36.332Z"
   },
   {
    "duration": 4,
    "start_time": "2024-09-02T06:24:38.940Z"
   },
   {
    "duration": 9,
    "start_time": "2024-09-02T06:24:43.792Z"
   },
   {
    "duration": 5,
    "start_time": "2024-09-02T06:24:45.040Z"
   },
   {
    "duration": 3,
    "start_time": "2024-09-02T06:24:47.822Z"
   },
   {
    "duration": 5,
    "start_time": "2024-09-02T06:26:25.897Z"
   },
   {
    "duration": 310,
    "start_time": "2024-09-02T06:26:39.979Z"
   },
   {
    "duration": 5,
    "start_time": "2024-09-02T06:26:59.421Z"
   },
   {
    "duration": 72,
    "start_time": "2024-09-02T06:27:00.890Z"
   },
   {
    "duration": 4,
    "start_time": "2024-09-02T06:27:55.716Z"
   },
   {
    "duration": 4,
    "start_time": "2024-09-02T06:30:34.498Z"
   },
   {
    "duration": 9,
    "start_time": "2024-09-02T06:30:36.752Z"
   },
   {
    "duration": 4,
    "start_time": "2024-09-02T06:31:04.530Z"
   },
   {
    "duration": 3,
    "start_time": "2024-09-02T06:31:34.525Z"
   },
   {
    "duration": 4,
    "start_time": "2024-09-02T06:32:02.934Z"
   },
   {
    "duration": 9,
    "start_time": "2024-09-02T06:32:04.148Z"
   },
   {
    "duration": 4,
    "start_time": "2024-09-02T06:32:05.539Z"
   },
   {
    "duration": 5,
    "start_time": "2024-09-02T06:32:16.115Z"
   },
   {
    "duration": 3,
    "start_time": "2024-09-02T06:32:27.005Z"
   },
   {
    "duration": 5,
    "start_time": "2024-09-02T06:32:35.663Z"
   },
   {
    "duration": 42,
    "start_time": "2024-09-02T06:32:40.919Z"
   },
   {
    "duration": 5,
    "start_time": "2024-09-02T06:32:45.099Z"
   },
   {
    "duration": 65,
    "start_time": "2024-09-02T06:32:47.448Z"
   },
   {
    "duration": 3,
    "start_time": "2024-09-02T06:33:05.838Z"
   },
   {
    "duration": 12,
    "start_time": "2024-09-02T06:33:11.790Z"
   },
   {
    "duration": 8,
    "start_time": "2024-09-02T06:33:14.281Z"
   },
   {
    "duration": 16,
    "start_time": "2024-09-02T06:33:25.958Z"
   },
   {
    "duration": 8,
    "start_time": "2024-09-02T06:33:29.689Z"
   },
   {
    "duration": 10,
    "start_time": "2024-09-02T06:33:42.612Z"
   },
   {
    "duration": 7,
    "start_time": "2024-09-02T06:33:43.225Z"
   },
   {
    "duration": 4,
    "start_time": "2024-09-02T06:33:51.299Z"
   },
   {
    "duration": 3,
    "start_time": "2024-09-02T06:33:51.630Z"
   },
   {
    "duration": 3,
    "start_time": "2024-09-02T06:33:52.698Z"
   },
   {
    "duration": 3,
    "start_time": "2024-09-02T06:34:24.916Z"
   },
   {
    "duration": 5,
    "start_time": "2024-09-02T06:38:32.519Z"
   },
   {
    "duration": 5,
    "start_time": "2024-09-02T06:39:06.729Z"
   },
   {
    "duration": 4,
    "start_time": "2024-09-02T06:44:58.066Z"
   },
   {
    "duration": 5,
    "start_time": "2024-09-02T06:45:44.824Z"
   },
   {
    "duration": 3,
    "start_time": "2024-09-02T06:52:28.280Z"
   },
   {
    "duration": 9,
    "start_time": "2024-09-02T06:52:31.046Z"
   },
   {
    "duration": 9,
    "start_time": "2024-09-02T06:52:49.047Z"
   },
   {
    "duration": 9,
    "start_time": "2024-09-02T06:52:59.825Z"
   },
   {
    "duration": 9,
    "start_time": "2024-09-02T06:53:06.198Z"
   },
   {
    "duration": 11,
    "start_time": "2024-09-02T06:53:23.624Z"
   },
   {
    "duration": 9,
    "start_time": "2024-09-02T06:53:30.380Z"
   },
   {
    "duration": 4,
    "start_time": "2024-09-02T06:53:38.080Z"
   },
   {
    "duration": 4,
    "start_time": "2024-09-02T06:53:39.666Z"
   },
   {
    "duration": 3,
    "start_time": "2024-09-02T06:53:40.797Z"
   },
   {
    "duration": 4,
    "start_time": "2024-09-02T06:53:41.189Z"
   },
   {
    "duration": 5,
    "start_time": "2024-09-02T06:53:42.446Z"
   },
   {
    "duration": 3,
    "start_time": "2024-09-02T06:53:51.613Z"
   },
   {
    "duration": 2,
    "start_time": "2024-09-02T06:53:52.037Z"
   },
   {
    "duration": 3,
    "start_time": "2024-09-02T06:54:02.506Z"
   },
   {
    "duration": 5,
    "start_time": "2024-09-02T06:54:05.230Z"
   },
   {
    "duration": 4,
    "start_time": "2024-09-02T06:54:09.904Z"
   },
   {
    "duration": 4,
    "start_time": "2024-09-02T06:54:10.964Z"
   },
   {
    "duration": 5,
    "start_time": "2024-09-02T06:54:41.198Z"
   },
   {
    "duration": 3,
    "start_time": "2024-09-02T06:54:44.727Z"
   },
   {
    "duration": 5,
    "start_time": "2024-09-02T06:55:06.171Z"
   },
   {
    "duration": 3,
    "start_time": "2024-09-02T06:55:07.106Z"
   },
   {
    "duration": 6,
    "start_time": "2024-09-02T06:55:09.472Z"
   },
   {
    "duration": 3,
    "start_time": "2024-09-02T06:55:10.633Z"
   },
   {
    "duration": 6,
    "start_time": "2024-09-02T06:55:24.996Z"
   },
   {
    "duration": 5,
    "start_time": "2024-09-02T06:55:47.763Z"
   },
   {
    "duration": 10,
    "start_time": "2024-09-02T06:55:48.579Z"
   },
   {
    "duration": 3,
    "start_time": "2024-09-02T06:55:52.295Z"
   },
   {
    "duration": 5,
    "start_time": "2024-09-02T06:56:01.042Z"
   },
   {
    "duration": 5,
    "start_time": "2024-09-02T06:56:03.964Z"
   },
   {
    "duration": 5,
    "start_time": "2024-09-02T06:56:14.199Z"
   },
   {
    "duration": 41,
    "start_time": "2024-09-02T06:56:16.805Z"
   },
   {
    "duration": 5,
    "start_time": "2024-09-02T06:56:20.331Z"
   },
   {
    "duration": 62,
    "start_time": "2024-09-02T06:56:22.971Z"
   },
   {
    "duration": 3,
    "start_time": "2024-09-02T06:56:30.383Z"
   },
   {
    "duration": 11,
    "start_time": "2024-09-02T06:56:30.928Z"
   },
   {
    "duration": 8,
    "start_time": "2024-09-02T06:56:31.598Z"
   },
   {
    "duration": 10,
    "start_time": "2024-09-02T06:56:37.397Z"
   },
   {
    "duration": 7,
    "start_time": "2024-09-02T06:56:40.098Z"
   },
   {
    "duration": 10,
    "start_time": "2024-09-02T06:56:41.382Z"
   },
   {
    "duration": 7,
    "start_time": "2024-09-02T06:56:42.093Z"
   },
   {
    "duration": 4,
    "start_time": "2024-09-02T06:56:45.579Z"
   },
   {
    "duration": 2,
    "start_time": "2024-09-02T06:56:46.015Z"
   },
   {
    "duration": 3,
    "start_time": "2024-09-02T06:56:48.247Z"
   },
   {
    "duration": 3,
    "start_time": "2024-09-02T06:56:48.614Z"
   },
   {
    "duration": 4,
    "start_time": "2024-09-02T06:56:57.949Z"
   },
   {
    "duration": 702,
    "start_time": "2024-09-02T07:31:33.322Z"
   },
   {
    "duration": 15,
    "start_time": "2024-09-02T07:31:34.026Z"
   },
   {
    "duration": 9,
    "start_time": "2024-09-02T07:31:34.042Z"
   },
   {
    "duration": 11,
    "start_time": "2024-09-02T07:31:34.053Z"
   },
   {
    "duration": 8,
    "start_time": "2024-09-02T07:31:34.066Z"
   },
   {
    "duration": 33,
    "start_time": "2024-09-02T07:31:34.076Z"
   },
   {
    "duration": 8,
    "start_time": "2024-09-02T07:31:34.111Z"
   },
   {
    "duration": 4,
    "start_time": "2024-09-02T07:31:34.122Z"
   },
   {
    "duration": 4,
    "start_time": "2024-09-02T07:31:34.127Z"
   },
   {
    "duration": 3,
    "start_time": "2024-09-02T07:31:34.136Z"
   },
   {
    "duration": 8,
    "start_time": "2024-09-02T07:31:34.141Z"
   },
   {
    "duration": 6,
    "start_time": "2024-09-02T07:31:34.151Z"
   },
   {
    "duration": 2,
    "start_time": "2024-09-02T07:31:34.159Z"
   },
   {
    "duration": 3,
    "start_time": "2024-09-02T07:31:34.163Z"
   },
   {
    "duration": 39,
    "start_time": "2024-09-02T07:31:34.167Z"
   },
   {
    "duration": 4,
    "start_time": "2024-09-02T07:31:34.208Z"
   },
   {
    "duration": 3,
    "start_time": "2024-09-02T07:31:34.214Z"
   },
   {
    "duration": 4,
    "start_time": "2024-09-02T07:31:34.219Z"
   },
   {
    "duration": 4,
    "start_time": "2024-09-02T07:31:34.225Z"
   },
   {
    "duration": 3,
    "start_time": "2024-09-02T07:31:34.231Z"
   },
   {
    "duration": 4,
    "start_time": "2024-09-02T07:31:34.236Z"
   },
   {
    "duration": 3,
    "start_time": "2024-09-02T07:31:34.242Z"
   },
   {
    "duration": 5,
    "start_time": "2024-09-02T07:31:34.246Z"
   },
   {
    "duration": 3,
    "start_time": "2024-09-02T07:31:34.305Z"
   },
   {
    "duration": 5,
    "start_time": "2024-09-02T07:31:34.309Z"
   },
   {
    "duration": 4,
    "start_time": "2024-09-02T07:31:34.316Z"
   },
   {
    "duration": 8,
    "start_time": "2024-09-02T07:31:34.322Z"
   },
   {
    "duration": 3,
    "start_time": "2024-09-02T07:31:34.335Z"
   },
   {
    "duration": 4,
    "start_time": "2024-09-02T07:31:34.340Z"
   },
   {
    "duration": 2,
    "start_time": "2024-09-02T07:31:34.346Z"
   },
   {
    "duration": 5,
    "start_time": "2024-09-02T07:31:34.350Z"
   },
   {
    "duration": 379,
    "start_time": "2024-09-02T07:31:34.357Z"
   },
   {
    "duration": 5,
    "start_time": "2024-09-02T07:31:34.738Z"
   },
   {
    "duration": 109,
    "start_time": "2024-09-02T07:31:34.744Z"
   },
   {
    "duration": 4,
    "start_time": "2024-09-02T07:31:34.855Z"
   },
   {
    "duration": 12,
    "start_time": "2024-09-02T07:31:34.860Z"
   },
   {
    "duration": 33,
    "start_time": "2024-09-02T07:31:34.873Z"
   },
   {
    "duration": 11,
    "start_time": "2024-09-02T07:31:34.907Z"
   },
   {
    "duration": 7,
    "start_time": "2024-09-02T07:31:34.919Z"
   },
   {
    "duration": 9,
    "start_time": "2024-09-02T07:31:34.928Z"
   },
   {
    "duration": 6,
    "start_time": "2024-09-02T07:31:34.940Z"
   },
   {
    "duration": 3,
    "start_time": "2024-09-02T07:31:34.948Z"
   },
   {
    "duration": 4,
    "start_time": "2024-09-02T07:31:34.952Z"
   },
   {
    "duration": 5,
    "start_time": "2024-09-02T07:31:34.957Z"
   },
   {
    "duration": 44,
    "start_time": "2024-09-02T07:31:34.963Z"
   },
   {
    "duration": 5,
    "start_time": "2024-09-02T07:31:35.008Z"
   },
   {
    "duration": 725,
    "start_time": "2025-01-10T23:29:27.129Z"
   },
   {
    "duration": 17,
    "start_time": "2025-01-10T23:29:35.102Z"
   },
   {
    "duration": 9,
    "start_time": "2025-01-10T23:29:42.387Z"
   },
   {
    "duration": 13,
    "start_time": "2025-01-10T23:29:44.102Z"
   },
   {
    "duration": 8,
    "start_time": "2025-01-10T23:29:48.036Z"
   },
   {
    "duration": 16,
    "start_time": "2025-01-10T23:29:55.684Z"
   },
   {
    "duration": 9,
    "start_time": "2025-01-10T23:29:57.097Z"
   },
   {
    "duration": 12,
    "start_time": "2025-01-10T23:29:59.758Z"
   },
   {
    "duration": 5,
    "start_time": "2025-01-10T23:30:00.996Z"
   },
   {
    "duration": 3,
    "start_time": "2025-01-10T23:30:02.464Z"
   },
   {
    "duration": 5,
    "start_time": "2025-01-10T23:30:03.113Z"
   },
   {
    "duration": 4,
    "start_time": "2025-01-10T23:30:06.705Z"
   },
   {
    "duration": 3,
    "start_time": "2025-01-10T23:30:08.348Z"
   },
   {
    "duration": 2,
    "start_time": "2025-01-10T23:30:09.610Z"
   },
   {
    "duration": 4,
    "start_time": "2025-01-10T23:30:22.481Z"
   },
   {
    "duration": 6,
    "start_time": "2025-01-10T23:30:23.079Z"
   },
   {
    "duration": 4,
    "start_time": "2025-01-10T23:30:24.610Z"
   },
   {
    "duration": 5,
    "start_time": "2025-01-10T23:30:25.216Z"
   },
   {
    "duration": 6,
    "start_time": "2025-01-10T23:30:31.828Z"
   },
   {
    "duration": 2,
    "start_time": "2025-01-10T23:30:33.117Z"
   },
   {
    "duration": 4,
    "start_time": "2025-01-10T23:30:34.943Z"
   },
   {
    "duration": 4,
    "start_time": "2025-01-10T23:30:36.871Z"
   },
   {
    "duration": 5,
    "start_time": "2025-01-10T23:30:38.599Z"
   },
   {
    "duration": 4,
    "start_time": "2025-01-10T23:30:39.281Z"
   },
   {
    "duration": 6,
    "start_time": "2025-01-10T23:30:41.852Z"
   },
   {
    "duration": 4,
    "start_time": "2025-01-10T23:30:42.998Z"
   },
   {
    "duration": 11,
    "start_time": "2025-01-10T23:30:43.455Z"
   },
   {
    "duration": 4,
    "start_time": "2025-01-10T23:30:44.694Z"
   },
   {
    "duration": 5,
    "start_time": "2025-01-10T23:30:45.932Z"
   },
   {
    "duration": 3,
    "start_time": "2025-01-10T23:30:46.679Z"
   },
   {
    "duration": 8,
    "start_time": "2025-01-10T23:30:51.870Z"
   },
   {
    "duration": 356,
    "start_time": "2025-01-10T23:30:54.491Z"
   },
   {
    "duration": 5,
    "start_time": "2025-01-10T23:30:57.683Z"
   },
   {
    "duration": 71,
    "start_time": "2025-01-10T23:30:58.240Z"
   },
   {
    "duration": 3,
    "start_time": "2025-01-10T23:30:59.899Z"
   },
   {
    "duration": 13,
    "start_time": "2025-01-10T23:31:01.611Z"
   },
   {
    "duration": 9,
    "start_time": "2025-01-10T23:31:01.881Z"
   },
   {
    "duration": 13,
    "start_time": "2025-01-10T23:31:02.759Z"
   },
   {
    "duration": 7,
    "start_time": "2025-01-10T23:31:02.961Z"
   },
   {
    "duration": 11,
    "start_time": "2025-01-10T23:31:03.378Z"
   },
   {
    "duration": 7,
    "start_time": "2025-01-10T23:31:03.660Z"
   },
   {
    "duration": 3,
    "start_time": "2025-01-10T23:31:04.145Z"
   },
   {
    "duration": 3,
    "start_time": "2025-01-10T23:31:04.376Z"
   },
   {
    "duration": 3,
    "start_time": "2025-01-10T23:31:04.597Z"
   },
   {
    "duration": 3,
    "start_time": "2025-01-10T23:31:04.879Z"
   },
   {
    "duration": 5,
    "start_time": "2025-01-10T23:31:08.982Z"
   }
  ],
  "kernelspec": {
   "display_name": "Python 3 (ipykernel)",
   "language": "python",
   "name": "python3"
  },
  "language_info": {
   "codemirror_mode": {
    "name": "ipython",
    "version": 3
   },
   "file_extension": ".py",
   "mimetype": "text/x-python",
   "name": "python",
   "nbconvert_exporter": "python",
   "pygments_lexer": "ipython3",
   "version": "3.11.7"
  },
  "toc": {
   "base_numbering": 1,
   "nav_menu": {},
   "number_sections": true,
   "sideBar": true,
   "skip_h1_title": true,
   "title_cell": "Table of Contents",
   "title_sidebar": "Contents",
   "toc_cell": false,
   "toc_position": {},
   "toc_section_display": true,
   "toc_window_display": false
  }
 },
 "nbformat": 4,
 "nbformat_minor": 4
}
